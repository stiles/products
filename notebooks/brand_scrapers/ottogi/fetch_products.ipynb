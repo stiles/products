{
 "cells": [
  {
   "cell_type": "markdown",
   "id": "771bcc23-2271-4ac2-be58-b9d7442948dc",
   "metadata": {},
   "source": [
    "# Fetch products from Ottogi"
   ]
  },
  {
   "cell_type": "markdown",
   "id": "5e9f7dd0-5ee7-4880-a3ec-496b726d5d81",
   "metadata": {},
   "source": [
    "> This notebook collects and processes listings on the company's product page."
   ]
  },
  {
   "cell_type": "code",
   "execution_count": 1,
   "id": "59201393-d063-4fe3-8cd9-99e5033701b1",
   "metadata": {
    "execution": {
     "iopub.execute_input": "2024-07-29T06:01:34.821435Z",
     "iopub.status.busy": "2024-07-29T06:01:34.821127Z",
     "iopub.status.idle": "2024-07-29T06:01:34.826674Z",
     "shell.execute_reply": "2024-07-29T06:01:34.826074Z"
    },
    "tags": []
   },
   "outputs": [],
   "source": [
    "# Python tools and Jupyter config"
   ]
  },
  {
   "cell_type": "code",
   "execution_count": 2,
   "id": "8687d089-2f69-40b9-a687-3fb37554de8c",
   "metadata": {
    "execution": {
     "iopub.execute_input": "2024-07-29T06:01:34.829821Z",
     "iopub.status.busy": "2024-07-29T06:01:34.829543Z",
     "iopub.status.idle": "2024-07-29T06:01:35.257424Z",
     "shell.execute_reply": "2024-07-29T06:01:35.257027Z"
    },
    "tags": []
   },
   "outputs": [],
   "source": [
    "import os\n",
    "import json\n",
    "import boto3\n",
    "import requests\n",
    "import pandas as pd\n",
    "import jupyter_black\n",
    "from time import sleep\n",
    "from pathlib import Path\n",
    "from random import randint\n",
    "from bs4 import BeautifulSoup\n",
    "from tqdm.notebook import tqdm, trange"
   ]
  },
  {
   "cell_type": "code",
   "execution_count": 3,
   "id": "2f81abae-9a59-432d-8212-031f3e752734",
   "metadata": {
    "execution": {
     "iopub.execute_input": "2024-07-29T06:01:35.259323Z",
     "iopub.status.busy": "2024-07-29T06:01:35.259167Z",
     "iopub.status.idle": "2024-07-29T06:01:35.263152Z",
     "shell.execute_reply": "2024-07-29T06:01:35.262874Z"
    },
    "tags": []
   },
   "outputs": [
    {
     "data": {
      "text/html": [
       "\n",
       "                <script type=\"application/javascript\" id=\"jupyter_black\">\n",
       "                (function() {\n",
       "                    if (window.IPython === undefined) {\n",
       "                        return\n",
       "                    }\n",
       "                    var msg = \"WARNING: it looks like you might have loaded \" +\n",
       "                        \"jupyter_black in a non-lab notebook with \" +\n",
       "                        \"`is_lab=True`. Please double check, and if \" +\n",
       "                        \"loading with `%load_ext` please review the README!\"\n",
       "                    console.log(msg)\n",
       "                    alert(msg)\n",
       "                })()\n",
       "                </script>\n",
       "                "
      ],
      "text/plain": [
       "<IPython.core.display.HTML object>"
      ]
     },
     "metadata": {},
     "output_type": "display_data"
    }
   ],
   "source": [
    "jupyter_black.load()\n",
    "pd.options.display.max_columns = 100\n",
    "pd.options.display.max_rows = 1000\n",
    "pd.options.display.max_colwidth = None\n",
    "today = pd.Timestamp.today().strftime(\"%Y-%m-%d\")"
   ]
  },
  {
   "cell_type": "code",
   "execution_count": 4,
   "id": "b81bd4a0-b2ef-4ab3-8fcd-98e1f01292b1",
   "metadata": {
    "execution": {
     "iopub.execute_input": "2024-07-29T06:01:35.264737Z",
     "iopub.status.busy": "2024-07-29T06:01:35.264648Z",
     "iopub.status.idle": "2024-07-29T06:01:35.267520Z",
     "shell.execute_reply": "2024-07-29T06:01:35.267266Z"
    },
    "tags": []
   },
   "outputs": [],
   "source": [
    "# Headers for requests"
   ]
  },
  {
   "cell_type": "code",
   "execution_count": 5,
   "id": "13d790de-b1c9-4107-9cfc-caf4efc28106",
   "metadata": {
    "execution": {
     "iopub.execute_input": "2024-07-29T06:01:35.269033Z",
     "iopub.status.busy": "2024-07-29T06:01:35.268946Z",
     "iopub.status.idle": "2024-07-29T06:01:35.272250Z",
     "shell.execute_reply": "2024-07-29T06:01:35.272010Z"
    },
    "tags": []
   },
   "outputs": [],
   "source": [
    "headers = {\n",
    "    \"Accept\": \"application/json, text/javascript, */*; q=0.01\",\n",
    "    \"Referer\": \"https://www.ottogi.co.kr/en/product/product_search\",\n",
    "}"
   ]
  },
  {
   "cell_type": "code",
   "execution_count": 6,
   "id": "14db1a96-13be-4490-b25e-8a8265300964",
   "metadata": {
    "execution": {
     "iopub.execute_input": "2024-07-29T06:01:35.273712Z",
     "iopub.status.busy": "2024-07-29T06:01:35.273618Z",
     "iopub.status.idle": "2024-07-29T06:01:35.275473Z",
     "shell.execute_reply": "2024-07-29T06:01:35.275195Z"
    },
    "tags": []
   },
   "outputs": [],
   "source": [
    "# Variables"
   ]
  },
  {
   "cell_type": "code",
   "execution_count": 7,
   "id": "b34e32df-870d-4136-8a99-6bb4d468a691",
   "metadata": {
    "execution": {
     "iopub.execute_input": "2024-07-29T06:01:35.276948Z",
     "iopub.status.busy": "2024-07-29T06:01:35.276859Z",
     "iopub.status.idle": "2024-07-29T06:01:35.279534Z",
     "shell.execute_reply": "2024-07-29T06:01:35.279278Z"
    },
    "tags": []
   },
   "outputs": [],
   "source": [
    "brand = \"ottogi\"\n",
    "parent = \"Ottogi Corporation\"\n",
    "brand_formal = \"Ottogi\""
   ]
  },
  {
   "cell_type": "code",
   "execution_count": 8,
   "id": "fe62b6d1-ddce-4a9b-95c0-18dd58912b74",
   "metadata": {
    "execution": {
     "iopub.execute_input": "2024-07-29T06:01:35.280907Z",
     "iopub.status.busy": "2024-07-29T06:01:35.280822Z",
     "iopub.status.idle": "2024-07-29T06:01:35.284425Z",
     "shell.execute_reply": "2024-07-29T06:01:35.284165Z"
    }
   },
   "outputs": [],
   "source": [
    "# BASE = Path(__file__).resolve().parent\n",
    "BASE = Path.cwd()\n",
    "CSV_OUT = BASE / f\"../../../data/brands/{brand}.csv\"\n",
    "JSON_OUT = BASE / f\"../../../data/brands/{brand}.json\""
   ]
  },
  {
   "cell_type": "code",
   "execution_count": 9,
   "id": "61ee50fe-77af-4bca-be44-cd9c568b6a02",
   "metadata": {
    "execution": {
     "iopub.execute_input": "2024-07-29T06:01:35.285868Z",
     "iopub.status.busy": "2024-07-29T06:01:35.285779Z",
     "iopub.status.idle": "2024-07-29T06:01:35.287407Z",
     "shell.execute_reply": "2024-07-29T06:01:35.287167Z"
    }
   },
   "outputs": [],
   "source": [
    "# Get categories"
   ]
  },
  {
   "cell_type": "code",
   "execution_count": 10,
   "id": "ae2ecef9-8dcb-4278-bc74-ec5b9f8b3604",
   "metadata": {
    "execution": {
     "iopub.execute_input": "2024-07-29T06:01:35.288764Z",
     "iopub.status.busy": "2024-07-29T06:01:35.288673Z",
     "iopub.status.idle": "2024-07-29T06:01:35.296703Z",
     "shell.execute_reply": "2024-07-29T06:01:35.296459Z"
    }
   },
   "outputs": [],
   "source": [
    "# Function to extract categories and create a lookup dictionary\n",
    "def get_category_lookup():\n",
    "    cat_url = \"https://www.ottogi.co.kr/en/product/product_cat\"\n",
    "    cat_response = requests.get(cat_url, headers=headers)\n",
    "    cat_soup = BeautifulSoup(cat_response.text, \"html.parser\")\n",
    "    categories = {}\n",
    "    category_elements = cat_soup.find_all(\"div\", class_=\"prd_item\")\n",
    "\n",
    "    for element in category_elements:\n",
    "        category_name = (\n",
    "            element.find(\"p\", class_=\"hashtag\").get_text(strip=True).replace(\"#\", \"\")\n",
    "        )\n",
    "        category_url = element.find(\"a\")[\"href\"]\n",
    "        category_id = category_url.split(\"idx=\")[-1]\n",
    "        categories[category_id] = category_name\n",
    "\n",
    "    return categories"
   ]
  },
  {
   "cell_type": "code",
   "execution_count": 11,
   "id": "5c08aad7-0cae-49dc-9d5b-94f6c2ad83a0",
   "metadata": {
    "execution": {
     "iopub.execute_input": "2024-07-29T06:01:35.298139Z",
     "iopub.status.busy": "2024-07-29T06:01:35.298045Z",
     "iopub.status.idle": "2024-07-29T06:01:36.254976Z",
     "shell.execute_reply": "2024-07-29T06:01:36.254454Z"
    }
   },
   "outputs": [],
   "source": [
    "# Get the category lookup dictionary\n",
    "category_lookup = get_category_lookup()"
   ]
  },
  {
   "cell_type": "code",
   "execution_count": 12,
   "id": "d212a377-65d1-484b-b803-3dbeaf6adb74",
   "metadata": {
    "execution": {
     "iopub.execute_input": "2024-07-29T06:01:36.257739Z",
     "iopub.status.busy": "2024-07-29T06:01:36.257553Z",
     "iopub.status.idle": "2024-07-29T06:01:36.260217Z",
     "shell.execute_reply": "2024-07-29T06:01:36.259843Z"
    }
   },
   "outputs": [],
   "source": [
    "# Get product information"
   ]
  },
  {
   "cell_type": "code",
   "execution_count": 13,
   "id": "63cfe344-282c-4ae4-a4ac-72cf85ea60a2",
   "metadata": {
    "execution": {
     "iopub.execute_input": "2024-07-29T06:01:36.262495Z",
     "iopub.status.busy": "2024-07-29T06:01:36.262328Z",
     "iopub.status.idle": "2024-07-29T06:01:36.267740Z",
     "shell.execute_reply": "2024-07-29T06:01:36.267403Z"
    }
   },
   "outputs": [],
   "source": [
    "# Set up initial parameters\n",
    "params = {\n",
    "    \"sword\": \"\",\n",
    "    \"page\": \"1\",\n",
    "    \"pageSize\": \"20\",\n",
    "}\n",
    "\n",
    "base_url = \"https://www.ottogi.co.kr\"\n",
    "all_products = []\n",
    "page = 1"
   ]
  },
  {
   "cell_type": "code",
   "execution_count": 14,
   "id": "7d9b6a10-37a6-46d5-88ab-45817b05d125",
   "metadata": {
    "execution": {
     "iopub.execute_input": "2024-07-29T06:01:36.269689Z",
     "iopub.status.busy": "2024-07-29T06:01:36.269538Z",
     "iopub.status.idle": "2024-07-29T06:02:18.774483Z",
     "shell.execute_reply": "2024-07-29T06:02:18.773687Z"
    }
   },
   "outputs": [],
   "source": [
    "# Collect cookies by first visiting the main page\n",
    "main_page_response = requests.get(\"https://www.ottogi.co.kr/en/product/product_search\")\n",
    "cookies = main_page_response.cookies\n",
    "\n",
    "while True:\n",
    "    # Update the page number in params\n",
    "    params[\"page\"] = str(page)\n",
    "\n",
    "    # Request the product list for the current page\n",
    "    response = requests.get(\n",
    "        \"https://www.ottogi.co.kr/en/product/product_search_list_json\",\n",
    "        params=params,\n",
    "        cookies=cookies,\n",
    "        headers=headers,\n",
    "    )\n",
    "\n",
    "    data = response.json()\n",
    "    products = data[\"data\"]\n",
    "    items_count = data[\"itemsCount\"]\n",
    "\n",
    "    # If there are no products on the current page, break the loop\n",
    "    if not products:\n",
    "        break\n",
    "\n",
    "    # Append the products to the all_products list\n",
    "    all_products.extend(products)\n",
    "\n",
    "    # Increment the page number for the next iteration\n",
    "    page += 1"
   ]
  },
  {
   "cell_type": "code",
   "execution_count": 15,
   "id": "20a087bc-5389-45d0-8efa-4be589f47436",
   "metadata": {
    "execution": {
     "iopub.execute_input": "2024-07-29T06:02:18.778196Z",
     "iopub.status.busy": "2024-07-29T06:02:18.778004Z",
     "iopub.status.idle": "2024-07-29T06:02:18.783017Z",
     "shell.execute_reply": "2024-07-29T06:02:18.782709Z"
    }
   },
   "outputs": [],
   "source": [
    "# Convert the collected products to a DataFrame\n",
    "df = pd.DataFrame(all_products)"
   ]
  },
  {
   "cell_type": "code",
   "execution_count": 16,
   "id": "6b739b3a-065d-4ac1-8961-268dc8e5fb1d",
   "metadata": {
    "execution": {
     "iopub.execute_input": "2024-07-29T06:02:18.784554Z",
     "iopub.status.busy": "2024-07-29T06:02:18.784456Z",
     "iopub.status.idle": "2024-07-29T06:02:18.789012Z",
     "shell.execute_reply": "2024-07-29T06:02:18.788749Z"
    }
   },
   "outputs": [],
   "source": [
    "df[\"categorySeqFirst\"] = df[\"categorySeqFirst\"].astype(str).str.replace(\".0\", \"\")"
   ]
  },
  {
   "cell_type": "code",
   "execution_count": 17,
   "id": "1801cbc9-eafa-4209-88ec-2b65d29e93b5",
   "metadata": {
    "execution": {
     "iopub.execute_input": "2024-07-29T06:02:18.790515Z",
     "iopub.status.busy": "2024-07-29T06:02:18.790419Z",
     "iopub.status.idle": "2024-07-29T06:02:18.793738Z",
     "shell.execute_reply": "2024-07-29T06:02:18.793486Z"
    }
   },
   "outputs": [],
   "source": [
    "df[\"categorySeqFirstName\"] = df[\"categorySeqFirst\"].map(category_lookup)"
   ]
  },
  {
   "cell_type": "code",
   "execution_count": 18,
   "id": "355cc5db-790b-4ce1-afbe-5ceb63aa56a6",
   "metadata": {
    "execution": {
     "iopub.execute_input": "2024-07-29T06:02:18.795228Z",
     "iopub.status.busy": "2024-07-29T06:02:18.795136Z",
     "iopub.status.idle": "2024-07-29T06:02:18.798426Z",
     "shell.execute_reply": "2024-07-29T06:02:18.798188Z"
    }
   },
   "outputs": [],
   "source": [
    "df[\"date_fetch\"] = today\n",
    "df[\"parent\"] = parent\n",
    "df[\"brand\"] = brand_formal"
   ]
  },
  {
   "cell_type": "code",
   "execution_count": 19,
   "id": "9670f10f-1a1a-44f0-93b4-ae00cf33bc41",
   "metadata": {
    "execution": {
     "iopub.execute_input": "2024-07-29T06:02:18.799904Z",
     "iopub.status.busy": "2024-07-29T06:02:18.799817Z",
     "iopub.status.idle": "2024-07-29T06:02:18.801671Z",
     "shell.execute_reply": "2024-07-29T06:02:18.801431Z"
    },
    "tags": []
   },
   "outputs": [],
   "source": [
    "# Output"
   ]
  },
  {
   "cell_type": "code",
   "execution_count": 20,
   "id": "feb97950-94d1-4ecc-b48f-c73835449afd",
   "metadata": {
    "execution": {
     "iopub.execute_input": "2024-07-29T06:02:18.803078Z",
     "iopub.status.busy": "2024-07-29T06:02:18.802988Z",
     "iopub.status.idle": "2024-07-29T06:02:18.813055Z",
     "shell.execute_reply": "2024-07-29T06:02:18.812802Z"
    },
    "tags": []
   },
   "outputs": [],
   "source": [
    "# Local files\n",
    "df.to_csv(CSV_OUT, index=False)\n",
    "df.to_json(JSON_OUT, indent=4, orient=\"records\")"
   ]
  },
  {
   "cell_type": "code",
   "execution_count": 21,
   "id": "6d9d20d8-415f-420a-b006-965f007886a7",
   "metadata": {
    "execution": {
     "iopub.execute_input": "2024-07-29T06:02:18.814608Z",
     "iopub.status.busy": "2024-07-29T06:02:18.814511Z",
     "iopub.status.idle": "2024-07-29T06:02:20.308982Z",
     "shell.execute_reply": "2024-07-29T06:02:20.307193Z"
    }
   },
   "outputs": [
    {
     "name": "stdout",
     "output_type": "stream",
     "text": [
      "CSV file uploaded to s3://stilesdata.com/products/data/ottogi.csv\n"
     ]
    },
    {
     "name": "stdout",
     "output_type": "stream",
     "text": [
      "JSON file uploaded to s3://stilesdata.com/products/data/ottogi.json\n"
     ]
    }
   ],
   "source": [
    "# Paths for S3 storage\n",
    "S3_BUCKET = \"stilesdata.com\"\n",
    "S3_CSV_KEY = f\"products/data/{brand}.csv\"\n",
    "S3_JSON_KEY = f\"products/data/{brand}.json\"\n",
    "\n",
    "# Initialize boto3 client with environment variables\n",
    "s3_client = boto3.client(\n",
    "    \"s3\",\n",
    "    aws_access_key_id=os.getenv(\"MY_AWS_ACCESS_KEY_ID\"),\n",
    "    aws_secret_access_key=os.getenv(\"MY_AWS_SECRET_ACCESS_KEY\"),\n",
    "    aws_session_token=os.getenv(\"MY_AWS_SESSION_TOKEN\"),\n",
    ")\n",
    "\n",
    "# Upload the CSV file to S3\n",
    "s3_client.upload_file(str(CSV_OUT), S3_BUCKET, S3_CSV_KEY)\n",
    "print(f\"CSV file uploaded to s3://{S3_BUCKET}/{S3_CSV_KEY}\")\n",
    "\n",
    "# Upload the JSON file\n",
    "s3_client.upload_file(str(JSON_OUT), S3_BUCKET, S3_JSON_KEY)\n",
    "print(f\"JSON file uploaded to s3://{S3_BUCKET}/{S3_JSON_KEY}\")"
   ]
  }
 ],
 "metadata": {
  "kernelspec": {
   "display_name": "Python 3 (ipykernel)",
   "language": "python",
   "name": "python3"
  },
  "language_info": {
   "codemirror_mode": {
    "name": "ipython",
    "version": 3
   },
   "file_extension": ".py",
   "mimetype": "text/x-python",
   "name": "python",
   "nbconvert_exporter": "python",
   "pygments_lexer": "ipython3",
   "version": "3.9.15"
  }
 },
 "nbformat": 4,
 "nbformat_minor": 5
}
