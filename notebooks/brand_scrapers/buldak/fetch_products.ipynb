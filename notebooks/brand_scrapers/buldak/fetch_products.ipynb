{
 "cells": [
  {
   "cell_type": "markdown",
   "id": "771bcc23-2271-4ac2-be58-b9d7442948dc",
   "metadata": {},
   "source": [
    "# Fetch products from Buldak"
   ]
  },
  {
   "cell_type": "markdown",
   "id": "5e9f7dd0-5ee7-4880-a3ec-496b726d5d81",
   "metadata": {},
   "source": [
    "> This notebook collects and processes listings on the company's product page."
   ]
  },
  {
   "cell_type": "code",
   "execution_count": 1,
   "id": "59201393-d063-4fe3-8cd9-99e5033701b1",
   "metadata": {
    "tags": []
   },
   "outputs": [],
   "source": [
    "# Python tools and Jupyter config"
   ]
  },
  {
   "cell_type": "code",
   "execution_count": 2,
   "id": "8687d089-2f69-40b9-a687-3fb37554de8c",
   "metadata": {
    "tags": []
   },
   "outputs": [],
   "source": [
    "import os\n",
    "import json\n",
    "import boto3\n",
    "import requests\n",
    "import pandas as pd\n",
    "import jupyter_black\n",
    "from time import sleep\n",
    "from pathlib import Path\n",
    "from random import randint\n",
    "from bs4 import BeautifulSoup\n",
    "from tqdm.notebook import tqdm, trange"
   ]
  },
  {
   "cell_type": "code",
   "execution_count": 3,
   "id": "2f81abae-9a59-432d-8212-031f3e752734",
   "metadata": {
    "tags": []
   },
   "outputs": [
    {
     "data": {
      "text/html": [
       "\n",
       "                <script type=\"application/javascript\" id=\"jupyter_black\">\n",
       "                (function() {\n",
       "                    if (window.IPython === undefined) {\n",
       "                        return\n",
       "                    }\n",
       "                    var msg = \"WARNING: it looks like you might have loaded \" +\n",
       "                        \"jupyter_black in a non-lab notebook with \" +\n",
       "                        \"`is_lab=True`. Please double check, and if \" +\n",
       "                        \"loading with `%load_ext` please review the README!\"\n",
       "                    console.log(msg)\n",
       "                    alert(msg)\n",
       "                })()\n",
       "                </script>\n",
       "                "
      ],
      "text/plain": [
       "<IPython.core.display.HTML object>"
      ]
     },
     "metadata": {},
     "output_type": "display_data"
    }
   ],
   "source": [
    "jupyter_black.load()\n",
    "pd.options.display.max_columns = 100\n",
    "pd.options.display.max_rows = 1000\n",
    "pd.options.display.max_colwidth = None\n",
    "today = pd.Timestamp.today().strftime(\"%Y-%m-%d\")"
   ]
  },
  {
   "cell_type": "code",
   "execution_count": 4,
   "id": "b81bd4a0-b2ef-4ab3-8fcd-98e1f01292b1",
   "metadata": {
    "tags": []
   },
   "outputs": [],
   "source": [
    "# Headers for requests"
   ]
  },
  {
   "cell_type": "code",
   "execution_count": 5,
   "id": "13d790de-b1c9-4107-9cfc-caf4efc28106",
   "metadata": {
    "tags": []
   },
   "outputs": [],
   "source": [
    "headers = {\n",
    "    \"user-agent\": \"Mozilla/5.0 (Macintosh; Intel Mac OS X 10_15_7) AppleWebKit/537.36 (KHTML, like Gecko) Chrome/126.0.0.0 Safari/537.36\",\n",
    "}"
   ]
  },
  {
   "cell_type": "code",
   "execution_count": 6,
   "id": "14db1a96-13be-4490-b25e-8a8265300964",
   "metadata": {
    "tags": []
   },
   "outputs": [],
   "source": [
    "# Variables"
   ]
  },
  {
   "cell_type": "code",
   "execution_count": 7,
   "id": "b34e32df-870d-4136-8a99-6bb4d468a691",
   "metadata": {
    "tags": []
   },
   "outputs": [],
   "source": [
    "brand = \"buldak\"\n",
    "parent = \"Samyang America, Inc.\"\n",
    "brand_formal = \"Buldak\""
   ]
  },
  {
   "cell_type": "code",
   "execution_count": 8,
   "id": "f1d67faf-cdc5-4ecc-8e25-1a58bbfe671f",
   "metadata": {},
   "outputs": [],
   "source": [
    "# BASE = Path(__file__).resolve().parent\n",
    "BASE = Path.cwd()\n",
    "CSV_OUT = BASE / f\"../../../data/brands/{brand}.csv\"\n",
    "JSON_OUT = BASE / f\"../../../data/brands/{brand}.json\""
   ]
  },
  {
   "cell_type": "code",
   "execution_count": 9,
   "id": "cd91c37a-3d66-462b-8a25-153b097790dc",
   "metadata": {},
   "outputs": [
    {
     "data": {
      "text/plain": [
       "PosixPath('/Users/mstiles/github/products/notebooks/brand_scrapers/buldak/../../../data/brands/buldak.csv')"
      ]
     },
     "execution_count": 9,
     "metadata": {},
     "output_type": "execute_result"
    }
   ],
   "source": [
    "CSV_OUT"
   ]
  },
  {
   "cell_type": "code",
   "execution_count": 10,
   "id": "837c49cc-4fdf-48ad-971b-d1211a68ccf3",
   "metadata": {},
   "outputs": [],
   "source": [
    "# Extract product URLs from the grid\n",
    "url = \"https://samyangamerica.com/buldak/products\"\n",
    "headers = {\"User-Agent\": \"Mozilla/5.0\"}\n",
    "response = requests.get(url, headers=headers)\n",
    "soup = BeautifulSoup(response.text, \"html.parser\")\n",
    "product_boxes = soup.find_all(\"div\", class_=\"p-item-box\")\n",
    "\n",
    "base_url = \"https://samyangamerica.com\"\n",
    "products = []"
   ]
  },
  {
   "cell_type": "code",
   "execution_count": 11,
   "id": "71166ebf-3025-4380-94e3-c7d63881409c",
   "metadata": {},
   "outputs": [
    {
     "data": {
      "application/vnd.jupyter.widget-view+json": {
       "model_id": "677c96f03f9946178353c916666eadf8",
       "version_major": 2,
       "version_minor": 0
      },
      "text/plain": [
       "  0%|          | 0/39 [00:00<?, ?it/s]"
      ]
     },
     "metadata": {},
     "output_type": "display_data"
    }
   ],
   "source": [
    "# Collect the URLs and names\n",
    "for box in tqdm(product_boxes):\n",
    "    product_url = base_url + box.find(\"a\", class_=\"p-item-inner\")[\"href\"]\n",
    "    product_name = box.find(\"div\", class_=\"p-item-name\").get_text(strip=True)\n",
    "    products.append({\"name\": product_name, \"url\": product_url})\n",
    "\n",
    "\n",
    "# Function to extract detailed information from each product page\n",
    "def get_product_details(product):\n",
    "    response = requests.get(product[\"url\"], headers=headers)\n",
    "    soup = BeautifulSoup(response.text, \"html.parser\")\n",
    "\n",
    "    try:\n",
    "        image_url = base_url + soup.find(\"div\", class_=\"item-img\").find(\"img\")[\"src\"]\n",
    "    except AttributeError:\n",
    "        image_url = None\n",
    "\n",
    "    try:\n",
    "        narrative = soup.find(\"div\", class_=\"i-detail\").get_text(strip=True)\n",
    "    except AttributeError:\n",
    "        narrative = None\n",
    "\n",
    "    try:\n",
    "        ingredients = soup.find(\"div\", class_=\"i-text\").get_text(strip=True)\n",
    "    except AttributeError:\n",
    "        ingredients = None\n",
    "\n",
    "    try:\n",
    "        nutrition_img = (\n",
    "            base_url + soup.find(\"div\", class_=\"i-nutrition\").find(\"img\")[\"src\"]\n",
    "        )\n",
    "    except AttributeError:\n",
    "        nutrition_img = None\n",
    "\n",
    "    product.update(\n",
    "        {\n",
    "            \"image_url\": image_url,\n",
    "            \"narrative\": narrative,\n",
    "            \"ingredients\": ingredients,\n",
    "            \"nutrition_img\": nutrition_img,\n",
    "        }\n",
    "    )\n",
    "    return product"
   ]
  },
  {
   "cell_type": "code",
   "execution_count": 12,
   "id": "1f890703-ce2c-4bc0-b2dd-1ab19d5e9b8d",
   "metadata": {},
   "outputs": [],
   "source": [
    "# Gather details for each product\n",
    "detailed_products = [get_product_details(product) for product in products]"
   ]
  },
  {
   "cell_type": "code",
   "execution_count": 13,
   "id": "ae4154ba-fbcb-4fd5-8801-e18d74d04ab2",
   "metadata": {},
   "outputs": [],
   "source": [
    "# Store the data in a DataFrame\n",
    "df = pd.DataFrame(detailed_products)"
   ]
  },
  {
   "cell_type": "code",
   "execution_count": 14,
   "id": "3e5d2ec4-0298-4c9e-9908-f3a03a925ab8",
   "metadata": {},
   "outputs": [
    {
     "data": {
      "text/plain": [
       "39"
      ]
     },
     "execution_count": 14,
     "metadata": {},
     "output_type": "execute_result"
    }
   ],
   "source": [
    "# How many products?\n",
    "len(df[\"name\"])"
   ]
  },
  {
   "cell_type": "code",
   "execution_count": 15,
   "id": "ec3e0eac-f725-4a24-a307-e5522268ccaf",
   "metadata": {},
   "outputs": [],
   "source": [
    "df[\"date_fetch\"] = today\n",
    "df[\"parent\"] = parent\n",
    "df[\"brand\"] = brand_formal"
   ]
  },
  {
   "cell_type": "code",
   "execution_count": 16,
   "id": "9670f10f-1a1a-44f0-93b4-ae00cf33bc41",
   "metadata": {
    "tags": []
   },
   "outputs": [],
   "source": [
    "# Output"
   ]
  },
  {
   "cell_type": "code",
   "execution_count": 19,
   "id": "feb97950-94d1-4ecc-b48f-c73835449afd",
   "metadata": {
    "tags": []
   },
   "outputs": [],
   "source": [
    "# Local files\n",
    "df.to_csv(CSV_OUT, index=False)\n",
    "df.to_json(JSON_OUT, indent=4, orient=\"records\")"
   ]
  },
  {
   "cell_type": "code",
   "execution_count": 20,
   "id": "6d9d20d8-415f-420a-b006-965f007886a7",
   "metadata": {},
   "outputs": [
    {
     "name": "stdout",
     "output_type": "stream",
     "text": [
      "CSV file uploaded to s3://stilesdata.com/products/data/buldak.csv\n",
      "JSON file uploaded to s3://stilesdata.com/products/data/buldak.json\n"
     ]
    }
   ],
   "source": [
    "# Paths for S3 storage\n",
    "S3_BUCKET = \"stilesdata.com\"\n",
    "S3_CSV_KEY = f\"products/data/{brand}.csv\"\n",
    "S3_JSON_KEY = f\"products/data/{brand}.json\"\n",
    "\n",
    "# Initialize boto3 client with environment variables\n",
    "s3_client = boto3.client(\n",
    "    \"s3\",\n",
    "    aws_access_key_id=os.getenv(\"MY_AWS_ACCESS_KEY_ID\"),\n",
    "    aws_secret_access_key=os.getenv(\"MY_AWS_SECRET_ACCESS_KEY\"),\n",
    "    aws_session_token=os.getenv(\"MY_AWS_SESSION_TOKEN\"),\n",
    ")\n",
    "\n",
    "# Upload the CSV file to S3\n",
    "s3_client.upload_file(str(CSV_OUT), S3_BUCKET, S3_CSV_KEY)\n",
    "print(f\"CSV file uploaded to s3://{S3_BUCKET}/{S3_CSV_KEY}\")\n",
    "\n",
    "# Upload the JSON file\n",
    "s3_client.upload_file(str(JSON_OUT), S3_BUCKET, S3_JSON_KEY)\n",
    "print(f\"JSON file uploaded to s3://{S3_BUCKET}/{S3_JSON_KEY}\")"
   ]
  },
  {
   "cell_type": "code",
   "execution_count": null,
   "id": "c0be94cd-021f-48a1-b589-6e9638f5e57b",
   "metadata": {},
   "outputs": [],
   "source": []
  }
 ],
 "metadata": {
  "kernelspec": {
   "display_name": "Python 3 (ipykernel)",
   "language": "python",
   "name": "python3"
  },
  "language_info": {
   "codemirror_mode": {
    "name": "ipython",
    "version": 3
   },
   "file_extension": ".py",
   "mimetype": "text/x-python",
   "name": "python",
   "nbconvert_exporter": "python",
   "pygments_lexer": "ipython3",
   "version": "3.9.15"
  }
 },
 "nbformat": 4,
 "nbformat_minor": 5
}
