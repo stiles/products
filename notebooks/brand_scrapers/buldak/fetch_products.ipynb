{
 "cells": [
  {
   "cell_type": "markdown",
   "id": "771bcc23-2271-4ac2-be58-b9d7442948dc",
   "metadata": {},
   "source": [
    "# Fetch products from Buldak"
   ]
  },
  {
   "cell_type": "markdown",
   "id": "5e9f7dd0-5ee7-4880-a3ec-496b726d5d81",
   "metadata": {},
   "source": [
    "> This notebook collects and processes listings on the company's product page."
   ]
  },
  {
   "cell_type": "code",
   "execution_count": 1,
   "id": "59201393-d063-4fe3-8cd9-99e5033701b1",
   "metadata": {
    "execution": {
     "iopub.execute_input": "2024-07-29T06:00:41.433798Z",
     "iopub.status.busy": "2024-07-29T06:00:41.432982Z",
     "iopub.status.idle": "2024-07-29T06:00:41.438703Z",
     "shell.execute_reply": "2024-07-29T06:00:41.438152Z"
    },
    "tags": []
   },
   "outputs": [],
   "source": [
    "# Python tools and Jupyter config"
   ]
  },
  {
   "cell_type": "code",
   "execution_count": 2,
   "id": "8687d089-2f69-40b9-a687-3fb37554de8c",
   "metadata": {
    "execution": {
     "iopub.execute_input": "2024-07-29T06:00:41.442388Z",
     "iopub.status.busy": "2024-07-29T06:00:41.442152Z",
     "iopub.status.idle": "2024-07-29T06:00:41.902167Z",
     "shell.execute_reply": "2024-07-29T06:00:41.901752Z"
    },
    "tags": []
   },
   "outputs": [],
   "source": [
    "import os\n",
    "import json\n",
    "import boto3\n",
    "import requests\n",
    "import pandas as pd\n",
    "import jupyter_black\n",
    "from time import sleep\n",
    "from pathlib import Path\n",
    "from random import randint\n",
    "from bs4 import BeautifulSoup\n",
    "from tqdmimport tqdm"
   ]
  },
  {
   "cell_type": "code",
   "execution_count": 3,
   "id": "2f81abae-9a59-432d-8212-031f3e752734",
   "metadata": {
    "execution": {
     "iopub.execute_input": "2024-07-29T06:00:41.904857Z",
     "iopub.status.busy": "2024-07-29T06:00:41.904498Z",
     "iopub.status.idle": "2024-07-29T06:00:41.909557Z",
     "shell.execute_reply": "2024-07-29T06:00:41.909212Z"
    },
    "tags": []
   },
   "outputs": [
    {
     "data": {
      "text/html": [
       "\n",
       "                <script type=\"application/javascript\" id=\"jupyter_black\">\n",
       "                (function() {\n",
       "                    if (window.IPython === undefined) {\n",
       "                        return\n",
       "                    }\n",
       "                    var msg = \"WARNING: it looks like you might have loaded \" +\n",
       "                        \"jupyter_black in a non-lab notebook with \" +\n",
       "                        \"`is_lab=True`. Please double check, and if \" +\n",
       "                        \"loading with `%load_ext` please review the README!\"\n",
       "                    console.log(msg)\n",
       "                    alert(msg)\n",
       "                })()\n",
       "                </script>\n",
       "                "
      ],
      "text/plain": [
       "<IPython.core.display.HTML object>"
      ]
     },
     "metadata": {},
     "output_type": "display_data"
    }
   ],
   "source": [
    "jupyter_black.load()\n",
    "pd.options.display.max_columns = 100\n",
    "pd.options.display.max_rows = 1000\n",
    "pd.options.display.max_colwidth = None\n",
    "today = pd.Timestamp.today().strftime(\"%Y-%m-%d\")"
   ]
  },
  {
   "cell_type": "code",
   "execution_count": 4,
   "id": "b81bd4a0-b2ef-4ab3-8fcd-98e1f01292b1",
   "metadata": {
    "execution": {
     "iopub.execute_input": "2024-07-29T06:00:41.911420Z",
     "iopub.status.busy": "2024-07-29T06:00:41.911284Z",
     "iopub.status.idle": "2024-07-29T06:00:41.914624Z",
     "shell.execute_reply": "2024-07-29T06:00:41.914057Z"
    },
    "tags": []
   },
   "outputs": [],
   "source": [
    "# Headers for requests"
   ]
  },
  {
   "cell_type": "code",
   "execution_count": 5,
   "id": "13d790de-b1c9-4107-9cfc-caf4efc28106",
   "metadata": {
    "execution": {
     "iopub.execute_input": "2024-07-29T06:00:41.916985Z",
     "iopub.status.busy": "2024-07-29T06:00:41.916629Z",
     "iopub.status.idle": "2024-07-29T06:00:41.920645Z",
     "shell.execute_reply": "2024-07-29T06:00:41.920334Z"
    },
    "tags": []
   },
   "outputs": [],
   "source": [
    "headers = {\n",
    "    \"user-agent\": \"Mozilla/5.0 (Macintosh; Intel Mac OS X 10_15_7) AppleWebKit/537.36 (KHTML, like Gecko) Chrome/126.0.0.0 Safari/537.36\",\n",
    "}"
   ]
  },
  {
   "cell_type": "code",
   "execution_count": 6,
   "id": "14db1a96-13be-4490-b25e-8a8265300964",
   "metadata": {
    "execution": {
     "iopub.execute_input": "2024-07-29T06:00:41.922506Z",
     "iopub.status.busy": "2024-07-29T06:00:41.922372Z",
     "iopub.status.idle": "2024-07-29T06:00:41.924255Z",
     "shell.execute_reply": "2024-07-29T06:00:41.923998Z"
    },
    "tags": []
   },
   "outputs": [],
   "source": [
    "# Variables"
   ]
  },
  {
   "cell_type": "code",
   "execution_count": 7,
   "id": "b34e32df-870d-4136-8a99-6bb4d468a691",
   "metadata": {
    "execution": {
     "iopub.execute_input": "2024-07-29T06:00:41.925812Z",
     "iopub.status.busy": "2024-07-29T06:00:41.925702Z",
     "iopub.status.idle": "2024-07-29T06:00:41.928306Z",
     "shell.execute_reply": "2024-07-29T06:00:41.928081Z"
    },
    "tags": []
   },
   "outputs": [],
   "source": [
    "brand = \"buldak\"\n",
    "parent = \"Samyang America, Inc.\"\n",
    "brand_formal = \"Buldak\""
   ]
  },
  {
   "cell_type": "code",
   "execution_count": 8,
   "id": "f1d67faf-cdc5-4ecc-8e25-1a58bbfe671f",
   "metadata": {
    "execution": {
     "iopub.execute_input": "2024-07-29T06:00:41.929842Z",
     "iopub.status.busy": "2024-07-29T06:00:41.929734Z",
     "iopub.status.idle": "2024-07-29T06:00:41.933158Z",
     "shell.execute_reply": "2024-07-29T06:00:41.932904Z"
    }
   },
   "outputs": [],
   "source": [
    "# BASE = Path(__file__).resolve().parent\n",
    "BASE = Path.cwd()\n",
    "CSV_OUT = BASE / f\"../../../data/brands/{brand}.csv\"\n",
    "JSON_OUT = BASE / f\"../../../data/brands/{brand}.json\""
   ]
  },
  {
   "cell_type": "code",
   "execution_count": 9,
   "id": "cd91c37a-3d66-462b-8a25-153b097790dc",
   "metadata": {
    "execution": {
     "iopub.execute_input": "2024-07-29T06:00:41.934641Z",
     "iopub.status.busy": "2024-07-29T06:00:41.934554Z",
     "iopub.status.idle": "2024-07-29T06:00:41.937036Z",
     "shell.execute_reply": "2024-07-29T06:00:41.936785Z"
    }
   },
   "outputs": [
    {
     "data": {
      "text/plain": [
       "PosixPath('/Users/mstiles/github/products/notebooks/brand_scrapers/buldak/../../../data/brands/buldak.csv')"
      ]
     },
     "execution_count": 9,
     "metadata": {},
     "output_type": "execute_result"
    }
   ],
   "source": [
    "CSV_OUT"
   ]
  },
  {
   "cell_type": "code",
   "execution_count": 10,
   "id": "837c49cc-4fdf-48ad-971b-d1211a68ccf3",
   "metadata": {
    "execution": {
     "iopub.execute_input": "2024-07-29T06:00:41.938481Z",
     "iopub.status.busy": "2024-07-29T06:00:41.938394Z",
     "iopub.status.idle": "2024-07-29T06:00:42.540881Z",
     "shell.execute_reply": "2024-07-29T06:00:42.539920Z"
    }
   },
   "outputs": [],
   "source": [
    "# Extract product URLs from the grid\n",
    "url = \"https://samyangamerica.com/buldak/products\"\n",
    "headers = {\"User-Agent\": \"Mozilla/5.0\"}\n",
    "response = requests.get(url, headers=headers)\n",
    "soup = BeautifulSoup(response.text, \"html.parser\")\n",
    "product_boxes = soup.find_all(\"div\", class_=\"p-item-box\")\n",
    "\n",
    "base_url = \"https://samyangamerica.com\"\n",
    "products = []"
   ]
  },
  {
   "cell_type": "code",
   "execution_count": 11,
   "id": "71166ebf-3025-4380-94e3-c7d63881409c",
   "metadata": {
    "execution": {
     "iopub.execute_input": "2024-07-29T06:00:42.545659Z",
     "iopub.status.busy": "2024-07-29T06:00:42.545304Z",
     "iopub.status.idle": "2024-07-29T06:00:42.588410Z",
     "shell.execute_reply": "2024-07-29T06:00:42.587920Z"
    }
   },
   "outputs": [
    {
     "data": {
      "application/vnd.jupyter.widget-view+json": {
       "model_id": "b62ba3c4a1874c70a1bfcdbb7bcbc106",
       "version_major": 2,
       "version_minor": 0
      },
      "text/plain": [
       "  0%|          | 0/39 [00:00<?, ?it/s]"
      ]
     },
     "metadata": {},
     "output_type": "display_data"
    }
   ],
   "source": [
    "# Collect the URLs and names\n",
    "for box in tqdm(product_boxes):\n",
    "    product_url = base_url + box.find(\"a\", class_=\"p-item-inner\")[\"href\"]\n",
    "    product_name = box.find(\"div\", class_=\"p-item-name\").get_text(strip=True)\n",
    "    products.append({\"name\": product_name, \"url\": product_url})\n",
    "\n",
    "\n",
    "# Function to extract detailed information from each product page\n",
    "def get_product_details(product):\n",
    "    response = requests.get(product[\"url\"], headers=headers)\n",
    "    soup = BeautifulSoup(response.text, \"html.parser\")\n",
    "\n",
    "    try:\n",
    "        image_url = base_url + soup.find(\"div\", class_=\"item-img\").find(\"img\")[\"src\"]\n",
    "    except AttributeError:\n",
    "        image_url = None\n",
    "\n",
    "    try:\n",
    "        narrative = soup.find(\"div\", class_=\"i-detail\").get_text(strip=True)\n",
    "    except AttributeError:\n",
    "        narrative = None\n",
    "\n",
    "    try:\n",
    "        ingredients = soup.find(\"div\", class_=\"i-text\").get_text(strip=True)\n",
    "    except AttributeError:\n",
    "        ingredients = None\n",
    "\n",
    "    try:\n",
    "        nutrition_img = (\n",
    "            base_url + soup.find(\"div\", class_=\"i-nutrition\").find(\"img\")[\"src\"]\n",
    "        )\n",
    "    except AttributeError:\n",
    "        nutrition_img = None\n",
    "\n",
    "    product.update(\n",
    "        {\n",
    "            \"image_url\": image_url,\n",
    "            \"narrative\": narrative,\n",
    "            \"ingredients\": ingredients,\n",
    "            \"nutrition_img\": nutrition_img,\n",
    "        }\n",
    "    )\n",
    "    return product"
   ]
  },
  {
   "cell_type": "code",
   "execution_count": 12,
   "id": "1f890703-ce2c-4bc0-b2dd-1ab19d5e9b8d",
   "metadata": {
    "execution": {
     "iopub.execute_input": "2024-07-29T06:00:42.594881Z",
     "iopub.status.busy": "2024-07-29T06:00:42.594712Z",
     "iopub.status.idle": "2024-07-29T06:01:05.432155Z",
     "shell.execute_reply": "2024-07-29T06:01:05.431541Z"
    }
   },
   "outputs": [],
   "source": [
    "# Gather details for each product\n",
    "detailed_products = [get_product_details(product) for product in products]"
   ]
  },
  {
   "cell_type": "code",
   "execution_count": 13,
   "id": "ae4154ba-fbcb-4fd5-8801-e18d74d04ab2",
   "metadata": {
    "execution": {
     "iopub.execute_input": "2024-07-29T06:01:05.435745Z",
     "iopub.status.busy": "2024-07-29T06:01:05.435509Z",
     "iopub.status.idle": "2024-07-29T06:01:05.442626Z",
     "shell.execute_reply": "2024-07-29T06:01:05.442222Z"
    }
   },
   "outputs": [],
   "source": [
    "# Store the data in a DataFrame\n",
    "df = pd.DataFrame(detailed_products)"
   ]
  },
  {
   "cell_type": "code",
   "execution_count": 14,
   "id": "3e5d2ec4-0298-4c9e-9908-f3a03a925ab8",
   "metadata": {
    "execution": {
     "iopub.execute_input": "2024-07-29T06:01:05.444837Z",
     "iopub.status.busy": "2024-07-29T06:01:05.444658Z",
     "iopub.status.idle": "2024-07-29T06:01:05.449253Z",
     "shell.execute_reply": "2024-07-29T06:01:05.448931Z"
    }
   },
   "outputs": [
    {
     "data": {
      "text/plain": [
       "39"
      ]
     },
     "execution_count": 14,
     "metadata": {},
     "output_type": "execute_result"
    }
   ],
   "source": [
    "# How many products?\n",
    "len(df[\"name\"])"
   ]
  },
  {
   "cell_type": "code",
   "execution_count": 15,
   "id": "ec3e0eac-f725-4a24-a307-e5522268ccaf",
   "metadata": {
    "execution": {
     "iopub.execute_input": "2024-07-29T06:01:05.451337Z",
     "iopub.status.busy": "2024-07-29T06:01:05.451179Z",
     "iopub.status.idle": "2024-07-29T06:01:05.455888Z",
     "shell.execute_reply": "2024-07-29T06:01:05.455593Z"
    }
   },
   "outputs": [],
   "source": [
    "df[\"date_fetch\"] = today\n",
    "df[\"parent\"] = parent\n",
    "df[\"brand\"] = brand_formal"
   ]
  },
  {
   "cell_type": "code",
   "execution_count": 16,
   "id": "9670f10f-1a1a-44f0-93b4-ae00cf33bc41",
   "metadata": {
    "execution": {
     "iopub.execute_input": "2024-07-29T06:01:05.457686Z",
     "iopub.status.busy": "2024-07-29T06:01:05.457534Z",
     "iopub.status.idle": "2024-07-29T06:01:05.459547Z",
     "shell.execute_reply": "2024-07-29T06:01:05.459236Z"
    },
    "tags": []
   },
   "outputs": [],
   "source": [
    "# Output"
   ]
  },
  {
   "cell_type": "code",
   "execution_count": 17,
   "id": "feb97950-94d1-4ecc-b48f-c73835449afd",
   "metadata": {
    "execution": {
     "iopub.execute_input": "2024-07-29T06:01:05.461325Z",
     "iopub.status.busy": "2024-07-29T06:01:05.461185Z",
     "iopub.status.idle": "2024-07-29T06:01:05.469443Z",
     "shell.execute_reply": "2024-07-29T06:01:05.469124Z"
    },
    "tags": []
   },
   "outputs": [],
   "source": [
    "# Local files\n",
    "df.to_csv(CSV_OUT, index=False)\n",
    "df.to_json(JSON_OUT, indent=4, orient=\"records\")"
   ]
  },
  {
   "cell_type": "code",
   "execution_count": 18,
   "id": "6d9d20d8-415f-420a-b006-965f007886a7",
   "metadata": {
    "execution": {
     "iopub.execute_input": "2024-07-29T06:01:05.471172Z",
     "iopub.status.busy": "2024-07-29T06:01:05.471068Z",
     "iopub.status.idle": "2024-07-29T06:01:06.419064Z",
     "shell.execute_reply": "2024-07-29T06:01:06.417671Z"
    }
   },
   "outputs": [
    {
     "name": "stdout",
     "output_type": "stream",
     "text": [
      "CSV file uploaded to s3://stilesdata.com/products/data/buldak.csv\n",
      "JSON file uploaded to s3://stilesdata.com/products/data/buldak.json\n"
     ]
    }
   ],
   "source": [
    "# Paths for S3 storage\n",
    "S3_BUCKET = \"stilesdata.com\"\n",
    "S3_CSV_KEY = f\"products/data/{brand}.csv\"\n",
    "S3_JSON_KEY = f\"products/data/{brand}.json\"\n",
    "\n",
    "# Initialize boto3 client with environment variables\n",
    "s3_client = boto3.client(\n",
    "    \"s3\",\n",
    "    aws_access_key_id=os.getenv(\"MY_AWS_ACCESS_KEY_ID\"),\n",
    "    aws_secret_access_key=os.getenv(\"MY_AWS_SECRET_ACCESS_KEY\"),\n",
    "    aws_session_token=os.getenv(\"MY_AWS_SESSION_TOKEN\"),\n",
    ")\n",
    "\n",
    "# Upload the CSV file to S3\n",
    "s3_client.upload_file(str(CSV_OUT), S3_BUCKET, S3_CSV_KEY)\n",
    "print(f\"CSV file uploaded to s3://{S3_BUCKET}/{S3_CSV_KEY}\")\n",
    "\n",
    "# Upload the JSON file\n",
    "s3_client.upload_file(str(JSON_OUT), S3_BUCKET, S3_JSON_KEY)\n",
    "print(f\"JSON file uploaded to s3://{S3_BUCKET}/{S3_JSON_KEY}\")"
   ]
  },
  {
   "cell_type": "code",
   "execution_count": null,
   "id": "c0be94cd-021f-48a1-b589-6e9638f5e57b",
   "metadata": {},
   "outputs": [],
   "source": []
  }
 ],
 "metadata": {
  "kernelspec": {
   "display_name": "Python 3 (ipykernel)",
   "language": "python",
   "name": "python3"
  },
  "language_info": {
   "codemirror_mode": {
    "name": "ipython",
    "version": 3
   },
   "file_extension": ".py",
   "mimetype": "text/x-python",
   "name": "python",
   "nbconvert_exporter": "python",
   "pygments_lexer": "ipython3",
   "version": "3.9.15"
  },
  "widgets": {
   "application/vnd.jupyter.widget-state+json": {
    "state": {
     "0e297e37c7db4c349eafb7d8a55a8aee": {
      "model_module": "@jupyter-widgets/base",
      "model_module_version": "2.0.0",
      "model_name": "LayoutModel",
      "state": {
       "_model_module": "@jupyter-widgets/base",
       "_model_module_version": "2.0.0",
       "_model_name": "LayoutModel",
       "_view_count": null,
       "_view_module": "@jupyter-widgets/base",
       "_view_module_version": "2.0.0",
       "_view_name": "LayoutView",
       "align_content": null,
       "align_items": null,
       "align_self": null,
       "border_bottom": null,
       "border_left": null,
       "border_right": null,
       "border_top": null,
       "bottom": null,
       "display": null,
       "flex": null,
       "flex_flow": null,
       "grid_area": null,
       "grid_auto_columns": null,
       "grid_auto_flow": null,
       "grid_auto_rows": null,
       "grid_column": null,
       "grid_gap": null,
       "grid_row": null,
       "grid_template_areas": null,
       "grid_template_columns": null,
       "grid_template_rows": null,
       "height": null,
       "justify_content": null,
       "justify_items": null,
       "left": null,
       "margin": null,
       "max_height": null,
       "max_width": null,
       "min_height": null,
       "min_width": null,
       "object_fit": null,
       "object_position": null,
       "order": null,
       "overflow": null,
       "padding": null,
       "right": null,
       "top": null,
       "visibility": null,
       "width": null
      }
     },
     "1311a223ee054549990d3083d34abdf6": {
      "model_module": "@jupyter-widgets/controls",
      "model_module_version": "2.0.0",
      "model_name": "HTMLModel",
      "state": {
       "_dom_classes": [],
       "_model_module": "@jupyter-widgets/controls",
       "_model_module_version": "2.0.0",
       "_model_name": "HTMLModel",
       "_view_count": null,
       "_view_module": "@jupyter-widgets/controls",
       "_view_module_version": "2.0.0",
       "_view_name": "HTMLView",
       "description": "",
       "description_allow_html": false,
       "layout": "IPY_MODEL_51f9c3262da947e58a69f28ce376fd0b",
       "placeholder": "​",
       "style": "IPY_MODEL_ce0cfa0c90d9433eb15f829cb4c7b2f7",
       "tabbable": null,
       "tooltip": null,
       "value": "100%"
      }
     },
     "329351c0bb4647d682635cbc6d0626fd": {
      "model_module": "@jupyter-widgets/controls",
      "model_module_version": "2.0.0",
      "model_name": "FloatProgressModel",
      "state": {
       "_dom_classes": [],
       "_model_module": "@jupyter-widgets/controls",
       "_model_module_version": "2.0.0",
       "_model_name": "FloatProgressModel",
       "_view_count": null,
       "_view_module": "@jupyter-widgets/controls",
       "_view_module_version": "2.0.0",
       "_view_name": "ProgressView",
       "bar_style": "success",
       "description": "",
       "description_allow_html": false,
       "layout": "IPY_MODEL_8905a5e273ac49ff9c2d8f989eaeefa7",
       "max": 39.0,
       "min": 0.0,
       "orientation": "horizontal",
       "style": "IPY_MODEL_ef99d4a0339c472590b1bbb300a70e0c",
       "tabbable": null,
       "tooltip": null,
       "value": 39.0
      }
     },
     "4b6bc7b860b54de8966e9beff4a2d093": {
      "model_module": "@jupyter-widgets/controls",
      "model_module_version": "2.0.0",
      "model_name": "HTMLModel",
      "state": {
       "_dom_classes": [],
       "_model_module": "@jupyter-widgets/controls",
       "_model_module_version": "2.0.0",
       "_model_name": "HTMLModel",
       "_view_count": null,
       "_view_module": "@jupyter-widgets/controls",
       "_view_module_version": "2.0.0",
       "_view_name": "HTMLView",
       "description": "",
       "description_allow_html": false,
       "layout": "IPY_MODEL_0e297e37c7db4c349eafb7d8a55a8aee",
       "placeholder": "​",
       "style": "IPY_MODEL_70716f31676d4dc49daa498f824a8aad",
       "tabbable": null,
       "tooltip": null,
       "value": " 39/39 [00:00&lt;00:00, 5319.26it/s]"
      }
     },
     "51f9c3262da947e58a69f28ce376fd0b": {
      "model_module": "@jupyter-widgets/base",
      "model_module_version": "2.0.0",
      "model_name": "LayoutModel",
      "state": {
       "_model_module": "@jupyter-widgets/base",
       "_model_module_version": "2.0.0",
       "_model_name": "LayoutModel",
       "_view_count": null,
       "_view_module": "@jupyter-widgets/base",
       "_view_module_version": "2.0.0",
       "_view_name": "LayoutView",
       "align_content": null,
       "align_items": null,
       "align_self": null,
       "border_bottom": null,
       "border_left": null,
       "border_right": null,
       "border_top": null,
       "bottom": null,
       "display": null,
       "flex": null,
       "flex_flow": null,
       "grid_area": null,
       "grid_auto_columns": null,
       "grid_auto_flow": null,
       "grid_auto_rows": null,
       "grid_column": null,
       "grid_gap": null,
       "grid_row": null,
       "grid_template_areas": null,
       "grid_template_columns": null,
       "grid_template_rows": null,
       "height": null,
       "justify_content": null,
       "justify_items": null,
       "left": null,
       "margin": null,
       "max_height": null,
       "max_width": null,
       "min_height": null,
       "min_width": null,
       "object_fit": null,
       "object_position": null,
       "order": null,
       "overflow": null,
       "padding": null,
       "right": null,
       "top": null,
       "visibility": null,
       "width": null
      }
     },
     "70716f31676d4dc49daa498f824a8aad": {
      "model_module": "@jupyter-widgets/controls",
      "model_module_version": "2.0.0",
      "model_name": "HTMLStyleModel",
      "state": {
       "_model_module": "@jupyter-widgets/controls",
       "_model_module_version": "2.0.0",
       "_model_name": "HTMLStyleModel",
       "_view_count": null,
       "_view_module": "@jupyter-widgets/base",
       "_view_module_version": "2.0.0",
       "_view_name": "StyleView",
       "background": null,
       "description_width": "",
       "font_size": null,
       "text_color": null
      }
     },
     "8905a5e273ac49ff9c2d8f989eaeefa7": {
      "model_module": "@jupyter-widgets/base",
      "model_module_version": "2.0.0",
      "model_name": "LayoutModel",
      "state": {
       "_model_module": "@jupyter-widgets/base",
       "_model_module_version": "2.0.0",
       "_model_name": "LayoutModel",
       "_view_count": null,
       "_view_module": "@jupyter-widgets/base",
       "_view_module_version": "2.0.0",
       "_view_name": "LayoutView",
       "align_content": null,
       "align_items": null,
       "align_self": null,
       "border_bottom": null,
       "border_left": null,
       "border_right": null,
       "border_top": null,
       "bottom": null,
       "display": null,
       "flex": null,
       "flex_flow": null,
       "grid_area": null,
       "grid_auto_columns": null,
       "grid_auto_flow": null,
       "grid_auto_rows": null,
       "grid_column": null,
       "grid_gap": null,
       "grid_row": null,
       "grid_template_areas": null,
       "grid_template_columns": null,
       "grid_template_rows": null,
       "height": null,
       "justify_content": null,
       "justify_items": null,
       "left": null,
       "margin": null,
       "max_height": null,
       "max_width": null,
       "min_height": null,
       "min_width": null,
       "object_fit": null,
       "object_position": null,
       "order": null,
       "overflow": null,
       "padding": null,
       "right": null,
       "top": null,
       "visibility": null,
       "width": null
      }
     },
     "b62ba3c4a1874c70a1bfcdbb7bcbc106": {
      "model_module": "@jupyter-widgets/controls",
      "model_module_version": "2.0.0",
      "model_name": "HBoxModel",
      "state": {
       "_dom_classes": [],
       "_model_module": "@jupyter-widgets/controls",
       "_model_module_version": "2.0.0",
       "_model_name": "HBoxModel",
       "_view_count": null,
       "_view_module": "@jupyter-widgets/controls",
       "_view_module_version": "2.0.0",
       "_view_name": "HBoxView",
       "box_style": "",
       "children": [
        "IPY_MODEL_1311a223ee054549990d3083d34abdf6",
        "IPY_MODEL_329351c0bb4647d682635cbc6d0626fd",
        "IPY_MODEL_4b6bc7b860b54de8966e9beff4a2d093"
       ],
       "layout": "IPY_MODEL_c9f51b36983342f6a0249607a88ae65f",
       "tabbable": null,
       "tooltip": null
      }
     },
     "c9f51b36983342f6a0249607a88ae65f": {
      "model_module": "@jupyter-widgets/base",
      "model_module_version": "2.0.0",
      "model_name": "LayoutModel",
      "state": {
       "_model_module": "@jupyter-widgets/base",
       "_model_module_version": "2.0.0",
       "_model_name": "LayoutModel",
       "_view_count": null,
       "_view_module": "@jupyter-widgets/base",
       "_view_module_version": "2.0.0",
       "_view_name": "LayoutView",
       "align_content": null,
       "align_items": null,
       "align_self": null,
       "border_bottom": null,
       "border_left": null,
       "border_right": null,
       "border_top": null,
       "bottom": null,
       "display": null,
       "flex": null,
       "flex_flow": null,
       "grid_area": null,
       "grid_auto_columns": null,
       "grid_auto_flow": null,
       "grid_auto_rows": null,
       "grid_column": null,
       "grid_gap": null,
       "grid_row": null,
       "grid_template_areas": null,
       "grid_template_columns": null,
       "grid_template_rows": null,
       "height": null,
       "justify_content": null,
       "justify_items": null,
       "left": null,
       "margin": null,
       "max_height": null,
       "max_width": null,
       "min_height": null,
       "min_width": null,
       "object_fit": null,
       "object_position": null,
       "order": null,
       "overflow": null,
       "padding": null,
       "right": null,
       "top": null,
       "visibility": null,
       "width": null
      }
     },
     "ce0cfa0c90d9433eb15f829cb4c7b2f7": {
      "model_module": "@jupyter-widgets/controls",
      "model_module_version": "2.0.0",
      "model_name": "HTMLStyleModel",
      "state": {
       "_model_module": "@jupyter-widgets/controls",
       "_model_module_version": "2.0.0",
       "_model_name": "HTMLStyleModel",
       "_view_count": null,
       "_view_module": "@jupyter-widgets/base",
       "_view_module_version": "2.0.0",
       "_view_name": "StyleView",
       "background": null,
       "description_width": "",
       "font_size": null,
       "text_color": null
      }
     },
     "ef99d4a0339c472590b1bbb300a70e0c": {
      "model_module": "@jupyter-widgets/controls",
      "model_module_version": "2.0.0",
      "model_name": "ProgressStyleModel",
      "state": {
       "_model_module": "@jupyter-widgets/controls",
       "_model_module_version": "2.0.0",
       "_model_name": "ProgressStyleModel",
       "_view_count": null,
       "_view_module": "@jupyter-widgets/base",
       "_view_module_version": "2.0.0",
       "_view_name": "StyleView",
       "bar_color": null,
       "description_width": ""
      }
     }
    },
    "version_major": 2,
    "version_minor": 0
   }
  }
 },
 "nbformat": 4,
 "nbformat_minor": 5
}
