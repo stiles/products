{
 "cells": [
  {
   "cell_type": "markdown",
   "id": "771bcc23-2271-4ac2-be58-b9d7442948dc",
   "metadata": {},
   "source": [
    "# Fetch products from Heinz"
   ]
  },
  {
   "cell_type": "markdown",
   "id": "5e9f7dd0-5ee7-4880-a3ec-496b726d5d81",
   "metadata": {},
   "source": [
    "> This notebook collects and processes listings on the company's product page."
   ]
  },
  {
   "cell_type": "code",
   "execution_count": 1,
   "id": "59201393-d063-4fe3-8cd9-99e5033701b1",
   "metadata": {
    "tags": []
   },
   "outputs": [],
   "source": [
    "# Python tools and Jupyter config"
   ]
  },
  {
   "cell_type": "code",
   "execution_count": 2,
   "id": "8687d089-2f69-40b9-a687-3fb37554de8c",
   "metadata": {
    "tags": []
   },
   "outputs": [],
   "source": [
    "import os\n",
    "import json\n",
    "import boto3\n",
    "import requests\n",
    "import pandas as pd\n",
    "import jupyter_black\n",
    "from time import sleep\n",
    "from pathlib import Path\n",
    "from random import randint\n",
    "from bs4 import BeautifulSoup\n",
    "from tqdm.notebook import tqdm, trange"
   ]
  },
  {
   "cell_type": "code",
   "execution_count": 3,
   "id": "2f81abae-9a59-432d-8212-031f3e752734",
   "metadata": {
    "tags": []
   },
   "outputs": [
    {
     "data": {
      "text/html": [
       "\n",
       "                <script type=\"application/javascript\" id=\"jupyter_black\">\n",
       "                (function() {\n",
       "                    if (window.IPython === undefined) {\n",
       "                        return\n",
       "                    }\n",
       "                    var msg = \"WARNING: it looks like you might have loaded \" +\n",
       "                        \"jupyter_black in a non-lab notebook with \" +\n",
       "                        \"`is_lab=True`. Please double check, and if \" +\n",
       "                        \"loading with `%load_ext` please review the README!\"\n",
       "                    console.log(msg)\n",
       "                    alert(msg)\n",
       "                })()\n",
       "                </script>\n",
       "                "
      ],
      "text/plain": [
       "<IPython.core.display.HTML object>"
      ]
     },
     "metadata": {},
     "output_type": "display_data"
    }
   ],
   "source": [
    "jupyter_black.load()\n",
    "pd.options.display.max_columns = 100\n",
    "pd.options.display.max_rows = 1000\n",
    "pd.options.display.max_colwidth = None\n",
    "today = pd.Timestamp.today().strftime(\"%Y-%m-%d\")"
   ]
  },
  {
   "cell_type": "code",
   "execution_count": 4,
   "id": "14db1a96-13be-4490-b25e-8a8265300964",
   "metadata": {
    "tags": []
   },
   "outputs": [],
   "source": [
    "# Variables"
   ]
  },
  {
   "cell_type": "code",
   "execution_count": 5,
   "id": "b34e32df-870d-4136-8a99-6bb4d468a691",
   "metadata": {
    "tags": []
   },
   "outputs": [],
   "source": [
    "brand = \"heinz\"\n",
    "brand_formal = \"Heinz\"\n",
    "parent = \"The Kraft Heinz Co.\""
   ]
  },
  {
   "cell_type": "code",
   "execution_count": 23,
   "id": "b9654fe2-631b-4446-a614-d002ac9c8057",
   "metadata": {},
   "outputs": [],
   "source": [
    "# BASE = Path(__file__).resolve().parent\n",
    "BASE = Path.cwd()\n",
    "CSV_OUT = BASE / f\"../../../data/{brand}.csv\"\n",
    "JSON_OUT = BASE / f\"../../../data/{brand}.json\""
   ]
  },
  {
   "cell_type": "code",
   "execution_count": 24,
   "id": "cedd6207-651a-470b-87ff-3eeb5ebda1f7",
   "metadata": {},
   "outputs": [
    {
     "data": {
      "text/plain": [
       "PosixPath('/Users/mstiles/github/products/notebooks/brands/heinz/../../../data/heinz.csv')"
      ]
     },
     "execution_count": 24,
     "metadata": {},
     "output_type": "execute_result"
    }
   ],
   "source": [
    "CSV_OUT"
   ]
  },
  {
   "cell_type": "markdown",
   "id": "a2155a50-c399-4200-9882-d6b3fdbdad92",
   "metadata": {},
   "source": [
    "---"
   ]
  },
  {
   "cell_type": "code",
   "execution_count": 7,
   "id": "781eb25c-5d41-42f4-bc7a-2ee65ddc955f",
   "metadata": {},
   "outputs": [],
   "source": [
    "# Headers for the requests\n",
    "headers = {\n",
    "    \"Referer\": \"https://www.heinz.com/\",\n",
    "    \"User-Agent\": \"Mozilla/5.0 (Macintosh; Intel Mac OS X 10_15_7) AppleWebKit/537.36 (KHTML, like Gecko) Chrome/126.0.0.0 Safari/537.36\",\n",
    "}\n",
    "\n",
    "# Data for the POST request\n",
    "data = '{\"requests\":[{\"indexName\":\"heinz-prd-products-en-US\",\"params\":\"clickAnalytics=true&facets=%5B%22*%22%5D&highlightPostTag=__%2Fais-highlight__&highlightPreTag=__ais-highlight__&hitsPerPage=100&maxValuesPerFacet=100&page=0&tagFilters=\"}]}'"
   ]
  },
  {
   "cell_type": "code",
   "execution_count": 8,
   "id": "8bfeeb41-21b7-40e0-8736-47b2bd2774ce",
   "metadata": {},
   "outputs": [],
   "source": [
    "# Function to flatten the product JSON\n",
    "def flatten_product(product):\n",
    "    flattened = {\n",
    "        \"entryId\": product.get(\"entryId\", \"\"),\n",
    "        \"name\": product.get(\"name\", \"\"),\n",
    "        \"description\": product.get(\"description\", \"\"),\n",
    "        \"tagLine\": product.get(\"tagLine\", \"\"),\n",
    "        \"eyebrow\": product.get(\"eyebrow\", \"\"),\n",
    "        \"image_url\": product.get(\"image\", {}).get(\"url\", \"\"),\n",
    "        \"image_secure_url\": product.get(\"image\", {}).get(\"secure_url\", \"\"),\n",
    "        \"slug\": product.get(\"slug\", \"\"),\n",
    "        \"gtins\": \", \".join(product.get(\"gtins\", [])),\n",
    "        \"upcCodes\": \", \".join(product.get(\"upcCodes\", [])),\n",
    "        \"brand_key\": product.get(\"brand\", {}).get(\"key\", \"\"),\n",
    "        \"brand_name\": product.get(\"brand\", {}).get(\"name\", \"\"),\n",
    "        \"brand_image_url\": product.get(\"brand\", {}).get(\"image\", {}).get(\"url\", \"\"),\n",
    "        \"brand_image_secure_url\": product.get(\"brand\", {})\n",
    "        .get(\"image\", {})\n",
    "        .get(\"secure_url\", \"\"),\n",
    "        \"subheadParts\": \", \".join(product.get(\"subheadParts\", [])),\n",
    "        \"condimentType\": \", \".join(product.get(\"condimentType\", [])),\n",
    "        \"occasion\": \", \".join(product.get(\"occasion\", [])),\n",
    "        \"createdAt\": product.get(\"metadata\", {}).get(\"createdAt\", \"\"),\n",
    "        \"updatedAt\": product.get(\"metadata\", {}).get(\"updatedAt\", \"\"),\n",
    "    }\n",
    "    return flattened"
   ]
  },
  {
   "cell_type": "code",
   "execution_count": 9,
   "id": "94a19d63-6118-4dd7-be89-54803e7e41ba",
   "metadata": {},
   "outputs": [],
   "source": [
    "# Make the POST request\n",
    "response = requests.post(\n",
    "    \"https://ir4a3s8sa0-dsn.algolia.net/1/indexes/*/queries?x-algolia-agent=Algolia%20for%20JavaScript%20(4.14.3)%3B%20Browser%20(lite)%3B%20instantsearch.js%20(4.56.5)%3B%20react%20(18.2.0)%3B%20react-instantsearch%20(6.38.0)%3B%20react-instantsearch-hooks%20(6.38.0)%3B%20JS%20Helper%20(3.16.3)&x-algolia-api-key=495d968fee9cadc3b9f18e9b837798d5&x-algolia-application-id=IR4A3S8SA0\",\n",
    "    headers=headers,\n",
    "    data=data,\n",
    ")\n",
    "\n",
    "# Extract the list of products from the response\n",
    "product_list = response.json()[\"results\"][0][\"hits\"]\n",
    "\n",
    "# List to store the flattened product data\n",
    "flattened_products = []\n",
    "\n",
    "# Process each product and flatten the JSON\n",
    "for product in product_list:\n",
    "    flattened_product = flatten_product(product)\n",
    "    flattened_products.append(flattened_product)\n",
    "\n",
    "# Create a DataFrame from the flattened product data\n",
    "df = pd.DataFrame(flattened_products)"
   ]
  },
  {
   "cell_type": "code",
   "execution_count": 10,
   "id": "1fb27b8a-f554-45a5-8574-6ba96b9b6131",
   "metadata": {
    "tags": []
   },
   "outputs": [],
   "source": [
    "# Output"
   ]
  },
  {
   "cell_type": "code",
   "execution_count": 11,
   "id": "e7bac419-2b6d-45a5-b8c8-3ca80702cd8a",
   "metadata": {
    "tags": []
   },
   "outputs": [],
   "source": [
    "df[\"date_fetch\"] = today\n",
    "df[\"parent\"] = parent \n",
    "df['brand'] = brand_formal"
   ]
  },
  {
   "cell_type": "code",
   "execution_count": 17,
   "id": "a7ad85b4-1d48-4ff8-a8fd-1e612835b016",
   "metadata": {
    "tags": []
   },
   "outputs": [],
   "source": [
    "# Output local files\n",
    "df.to_csv(CSV_OUT, index=False)\n",
    "df.to_json(JSON_OUT, indent=4, orient=\"records\")"
   ]
  },
  {
   "cell_type": "code",
   "execution_count": 13,
   "id": "6d9d20d8-415f-420a-b006-965f007886a7",
   "metadata": {},
   "outputs": [
    {
     "name": "stdout",
     "output_type": "stream",
     "text": [
      "CSV file uploaded to s3://stilesdata.com/products/data/heinz.csv\n",
      "JSON file uploaded to s3://stilesdata.com/products/data/heinz.json\n"
     ]
    }
   ],
   "source": [
    "# Paths for S3 storage\n",
    "S3_BUCKET = \"stilesdata.com\"\n",
    "S3_CSV_KEY = f\"products/data/{brand}.csv\"\n",
    "S3_JSON_KEY = f\"products/data/{brand}.json\"\n",
    "\n",
    "# Initialize boto3 client with environment variables\n",
    "s3_client = boto3.client(\n",
    "    \"s3\",\n",
    "    aws_access_key_id=os.getenv(\"MY_AWS_ACCESS_KEY_ID\"),\n",
    "    aws_secret_access_key=os.getenv(\"MY_AWS_SECRET_ACCESS_KEY\"),\n",
    "    aws_session_token=os.getenv(\"MY_AWS_SESSION_TOKEN\"),\n",
    ")\n",
    "\n",
    "# Upload the CSV file to S3\n",
    "s3_client.upload_file(str(CSV_OUT), S3_BUCKET, S3_CSV_KEY)\n",
    "print(f\"CSV file uploaded to s3://{S3_BUCKET}/{S3_CSV_KEY}\")\n",
    "\n",
    "# Upload the JSON file\n",
    "s3_client.upload_file(str(JSON_OUT), S3_BUCKET, S3_JSON_KEY)\n",
    "print(f\"JSON file uploaded to s3://{S3_BUCKET}/{S3_JSON_KEY}\")"
   ]
  }
 ],
 "metadata": {
  "kernelspec": {
   "display_name": "Python 3 (ipykernel)",
   "language": "python",
   "name": "python3"
  },
  "language_info": {
   "codemirror_mode": {
    "name": "ipython",
    "version": 3
   },
   "file_extension": ".py",
   "mimetype": "text/x-python",
   "name": "python",
   "nbconvert_exporter": "python",
   "pygments_lexer": "ipython3",
   "version": "3.9.15"
  }
 },
 "nbformat": 4,
 "nbformat_minor": 5
}
