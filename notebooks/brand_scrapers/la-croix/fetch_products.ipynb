{
 "cells": [
  {
   "cell_type": "markdown",
   "id": "771bcc23-2271-4ac2-be58-b9d7442948dc",
   "metadata": {},
   "source": [
    "# Fetch products from La Croix"
   ]
  },
  {
   "cell_type": "markdown",
   "id": "5e9f7dd0-5ee7-4880-a3ec-496b726d5d81",
   "metadata": {},
   "source": [
    "> This notebook collects and processes listings on the company's product page."
   ]
  },
  {
   "cell_type": "code",
   "execution_count": 1,
   "id": "59201393-d063-4fe3-8cd9-99e5033701b1",
   "metadata": {
    "tags": []
   },
   "outputs": [],
   "source": [
    "# Python tools and Jupyter config"
   ]
  },
  {
   "cell_type": "code",
   "execution_count": 2,
   "id": "8687d089-2f69-40b9-a687-3fb37554de8c",
   "metadata": {
    "tags": []
   },
   "outputs": [],
   "source": [
    "import os\n",
    "import json\n",
    "import boto3\n",
    "import requests\n",
    "import pandas as pd\n",
    "import jupyter_black\n",
    "from time import sleep\n",
    "from pathlib import Path\n",
    "from random import randint\n",
    "from bs4 import BeautifulSoup\n",
    "from tqdm.notebook import tqdm, trange"
   ]
  },
  {
   "cell_type": "code",
   "execution_count": 3,
   "id": "2f81abae-9a59-432d-8212-031f3e752734",
   "metadata": {
    "tags": []
   },
   "outputs": [
    {
     "data": {
      "text/html": [
       "\n",
       "                <script type=\"application/javascript\" id=\"jupyter_black\">\n",
       "                (function() {\n",
       "                    if (window.IPython === undefined) {\n",
       "                        return\n",
       "                    }\n",
       "                    var msg = \"WARNING: it looks like you might have loaded \" +\n",
       "                        \"jupyter_black in a non-lab notebook with \" +\n",
       "                        \"`is_lab=True`. Please double check, and if \" +\n",
       "                        \"loading with `%load_ext` please review the README!\"\n",
       "                    console.log(msg)\n",
       "                    alert(msg)\n",
       "                })()\n",
       "                </script>\n",
       "                "
      ],
      "text/plain": [
       "<IPython.core.display.HTML object>"
      ]
     },
     "metadata": {},
     "output_type": "display_data"
    }
   ],
   "source": [
    "jupyter_black.load()\n",
    "pd.options.display.max_columns = 100\n",
    "pd.options.display.max_rows = 1000\n",
    "pd.options.display.max_colwidth = None\n",
    "today = pd.Timestamp.today().strftime(\"%Y-%m-%d\")"
   ]
  },
  {
   "cell_type": "code",
   "execution_count": 4,
   "id": "14db1a96-13be-4490-b25e-8a8265300964",
   "metadata": {
    "tags": []
   },
   "outputs": [],
   "source": [
    "# Variables"
   ]
  },
  {
   "cell_type": "code",
   "execution_count": 5,
   "id": "b34e32df-870d-4136-8a99-6bb4d468a691",
   "metadata": {
    "tags": []
   },
   "outputs": [],
   "source": [
    "brand = \"la-croix\"\n",
    "brand_formal = \"La Croix\"\n",
    "parent = \"National Beverage Corporation\""
   ]
  },
  {
   "cell_type": "code",
   "execution_count": 6,
   "id": "b9654fe2-631b-4446-a614-d002ac9c8057",
   "metadata": {},
   "outputs": [],
   "source": [
    "# BASE = Path(__file__).resolve().parent\n",
    "BASE = Path.cwd()\n",
    "CSV_OUT = BASE / f\"../../../data/brands/{brand}.csv\"\n",
    "JSON_OUT = BASE / f\"../../../data/brands/{brand}.json\""
   ]
  },
  {
   "cell_type": "markdown",
   "id": "a2155a50-c399-4200-9882-d6b3fdbdad92",
   "metadata": {},
   "source": [
    "---"
   ]
  },
  {
   "cell_type": "code",
   "execution_count": 7,
   "id": "781eb25c-5d41-42f4-bc7a-2ee65ddc955f",
   "metadata": {},
   "outputs": [],
   "source": [
    "# Headers for the requests\n",
    "headers = {\n",
    "    \"Referer\": \"https://www.heinz.com/\",\n",
    "    \"User-Agent\": \"Mozilla/5.0 (Macintosh; Intel Mac OS X 10_15_7) AppleWebKit/537.36 (KHTML, like Gecko) Chrome/126.0.0.0 Safari/537.36\",\n",
    "}"
   ]
  },
  {
   "cell_type": "code",
   "execution_count": 8,
   "id": "008fb022-1db7-4c44-af27-7f093985c7b3",
   "metadata": {},
   "outputs": [],
   "source": [
    "# Base url\n",
    "base_url = \"https://www.lacroixwater.com/flavors/page/{}\""
   ]
  },
  {
   "cell_type": "code",
   "execution_count": 9,
   "id": "29d3e02d-03a8-4f72-be1f-2fa556a81268",
   "metadata": {},
   "outputs": [],
   "source": [
    "# Scrape all flavor items\n",
    "flavors = []\n",
    "\n",
    "page = 1\n",
    "while True:\n",
    "    response = requests.get(base_url.format(page), headers=headers)\n",
    "    if response.status_code != 200:\n",
    "        break\n",
    "    soup = BeautifulSoup(response.text, \"html.parser\")\n",
    "    items = soup.find_all(\"li\", class_=\"flavors-item\")\n",
    "\n",
    "    if not items:\n",
    "        break\n",
    "\n",
    "    for item in items:\n",
    "        flavor_name = item.find(\"h3\").get_text()\n",
    "        flavor_url = item.find(\"a\")[\"href\"]\n",
    "        flavor_image = item.find(\"img\")[\"src\"]\n",
    "        flavors.append(\n",
    "            {\n",
    "                \"brand\": None,\n",
    "                \"name\": flavor_name,\n",
    "                \"description\": None,\n",
    "                \"url\": flavor_url,\n",
    "                \"image\": flavor_image,\n",
    "            }\n",
    "        )\n",
    "    page += 1"
   ]
  },
  {
   "cell_type": "code",
   "execution_count": 10,
   "id": "25a84e2b-b1df-439d-8e3c-2ff40a1b1caa",
   "metadata": {},
   "outputs": [],
   "source": [
    "# Function to get description from each flavor page\n",
    "def get_flavor_description(url):\n",
    "    response = requests.get(url, headers=headers)\n",
    "    if response.status_code == 200:\n",
    "        soup = BeautifulSoup(response.text, \"html.parser\")\n",
    "        info_div = soup.find(\"div\", class_=\"info\")\n",
    "        if info_div:\n",
    "            description = info_div.find(\"p\").get_text()\n",
    "            return description\n",
    "    return None"
   ]
  },
  {
   "cell_type": "code",
   "execution_count": 11,
   "id": "e388a117-11c1-44fb-99ce-67ad4ed7c756",
   "metadata": {},
   "outputs": [
    {
     "data": {
      "application/vnd.jupyter.widget-view+json": {
       "model_id": "15f63d7fbf154ca784419abdada05d81",
       "version_major": 2,
       "version_minor": 0
      },
      "text/plain": [
       "  0%|          | 0/25 [00:00<?, ?it/s]"
      ]
     },
     "metadata": {},
     "output_type": "display_data"
    }
   ],
   "source": [
    "# Update the flavors with their descriptions\n",
    "for flavor in tqdm(flavors):\n",
    "    flavor[\"description\"] = get_flavor_description(flavor[\"url\"])\n",
    "    # time.sleep(1)  # Sleep if needed"
   ]
  },
  {
   "cell_type": "code",
   "execution_count": 12,
   "id": "2f766d11-0100-438d-b6fb-9556f27207ce",
   "metadata": {},
   "outputs": [],
   "source": [
    "# Convert to DataFrame\n",
    "df = pd.DataFrame(flavors)"
   ]
  },
  {
   "cell_type": "code",
   "execution_count": 13,
   "id": "1fb27b8a-f554-45a5-8574-6ba96b9b6131",
   "metadata": {
    "tags": []
   },
   "outputs": [],
   "source": [
    "# Output"
   ]
  },
  {
   "cell_type": "code",
   "execution_count": 14,
   "id": "e7bac419-2b6d-45a5-b8c8-3ca80702cd8a",
   "metadata": {
    "tags": []
   },
   "outputs": [],
   "source": [
    "df[\"date_fetch\"] = today\n",
    "df[\"parent\"] = parent\n",
    "df[\"brand\"] = brand_formal"
   ]
  },
  {
   "cell_type": "code",
   "execution_count": 15,
   "id": "8ac86434-3d15-4ff2-9125-6037035b145b",
   "metadata": {
    "tags": []
   },
   "outputs": [],
   "source": [
    "# Output local files\n",
    "df.to_csv(CSV_OUT, index=False)\n",
    "df.to_json(JSON_OUT, indent=4, orient=\"records\")"
   ]
  },
  {
   "cell_type": "code",
   "execution_count": 16,
   "id": "cc66c27c-dde6-4880-8b07-ec666ddd023f",
   "metadata": {
    "tags": []
   },
   "outputs": [
    {
     "ename": "SyntaxError",
     "evalue": "invalid syntax (193215758.py, line 20)",
     "output_type": "error",
     "traceback": [
      "\u001b[0;36m  Cell \u001b[0;32mIn[16], line 20\u001b[0;36m\u001b[0m\n\u001b[0;31m    print(f\"JSON file uploaded to s3://{S3_BUCKET}/{S3_JSON_KEY}\")ß\u001b[0m\n\u001b[0m                                                                  ^\u001b[0m\n\u001b[0;31mSyntaxError\u001b[0m\u001b[0;31m:\u001b[0m invalid syntax\n"
     ]
    }
   ],
   "source": [
    "# Paths for S3 storage\n",
    "S3_BUCKET = \"stilesdata.com\"\n",
    "S3_CSV_KEY = f\"products/{brand}/products.csv\"\n",
    "S3_JSON_KEY = f\"products/{brand}/products.json\"\n",
    "\n",
    "# Initialize boto3 client with environment variables\n",
    "s3_client = boto3.client(\n",
    "    \"s3\",\n",
    "    aws_access_key_id=os.getenv(\"MY_AWS_ACCESS_KEY_ID\"),\n",
    "    aws_secret_access_key=os.getenv(\"MY_AWS_SECRET_ACCESS_KEY\"),\n",
    "    aws_session_token=os.getenv(\"MY_AWS_SESSION_TOKEN\"),\n",
    ")\n",
    "\n",
    "# Upload the CSV file to S3\n",
    "s3_client.upload_file(str(CSV_OUT), S3_BUCKET, S3_CSV_KEY)\n",
    "print(f\"CSV file uploaded to s3://{S3_BUCKET}/{S3_CSV_KEY}\")\n",
    "\n",
    "# Upload the JSON file\n",
    "s3_client.upload_file(str(JSON_OUT), S3_BUCKET, S3_JSON_KEY)\n",
    "print(f\"JSON file uploaded to s3://{S3_BUCKET}/{S3_JSON_KEY}\")ß"
   ]
  }
 ],
 "metadata": {
  "kernelspec": {
   "display_name": "Python 3 (ipykernel)",
   "language": "python",
   "name": "python3"
  },
  "language_info": {
   "codemirror_mode": {
    "name": "ipython",
    "version": 3
   },
   "file_extension": ".py",
   "mimetype": "text/x-python",
   "name": "python",
   "nbconvert_exporter": "python",
   "pygments_lexer": "ipython3",
   "version": "3.9.15"
  }
 },
 "nbformat": 4,
 "nbformat_minor": 5
}
