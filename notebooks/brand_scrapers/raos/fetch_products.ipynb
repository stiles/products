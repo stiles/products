{
 "cells": [
  {
   "cell_type": "markdown",
   "id": "771bcc23-2271-4ac2-be58-b9d7442948dc",
   "metadata": {},
   "source": [
    "# Fetch products from Rao's"
   ]
  },
  {
   "cell_type": "markdown",
   "id": "5e9f7dd0-5ee7-4880-a3ec-496b726d5d81",
   "metadata": {},
   "source": [
    "> This notebook collects and processes listings on the company's product page."
   ]
  },
  {
   "cell_type": "code",
   "execution_count": 1,
   "id": "59201393-d063-4fe3-8cd9-99e5033701b1",
   "metadata": {
    "execution": {
     "iopub.execute_input": "2024-07-29T06:02:22.061489Z",
     "iopub.status.busy": "2024-07-29T06:02:22.061202Z",
     "iopub.status.idle": "2024-07-29T06:02:22.065906Z",
     "shell.execute_reply": "2024-07-29T06:02:22.065419Z"
    },
    "tags": []
   },
   "outputs": [],
   "source": [
    "# Python tools and Jupyter config"
   ]
  },
  {
   "cell_type": "code",
   "execution_count": 2,
   "id": "8687d089-2f69-40b9-a687-3fb37554de8c",
   "metadata": {
    "execution": {
     "iopub.execute_input": "2024-07-29T06:02:22.068734Z",
     "iopub.status.busy": "2024-07-29T06:02:22.068494Z",
     "iopub.status.idle": "2024-07-29T06:02:22.494377Z",
     "shell.execute_reply": "2024-07-29T06:02:22.494063Z"
    },
    "tags": []
   },
   "outputs": [],
   "source": [
    "import os\n",
    "import json\n",
    "import time\n",
    "import boto3\n",
    "import requests\n",
    "import pandas as pd\n",
    "import jupyter_black\n",
    "from time import sleep\n",
    "from pathlib import Path\n",
    "from random import randint\n",
    "from bs4 import BeautifulSoup\n",
    "from tqdm.notebook import tqdm, trange"
   ]
  },
  {
   "cell_type": "code",
   "execution_count": 3,
   "id": "2f81abae-9a59-432d-8212-031f3e752734",
   "metadata": {
    "execution": {
     "iopub.execute_input": "2024-07-29T06:02:22.496299Z",
     "iopub.status.busy": "2024-07-29T06:02:22.496143Z",
     "iopub.status.idle": "2024-07-29T06:02:22.500246Z",
     "shell.execute_reply": "2024-07-29T06:02:22.499998Z"
    },
    "tags": []
   },
   "outputs": [
    {
     "data": {
      "text/html": [
       "\n",
       "                <script type=\"application/javascript\" id=\"jupyter_black\">\n",
       "                (function() {\n",
       "                    if (window.IPython === undefined) {\n",
       "                        return\n",
       "                    }\n",
       "                    var msg = \"WARNING: it looks like you might have loaded \" +\n",
       "                        \"jupyter_black in a non-lab notebook with \" +\n",
       "                        \"`is_lab=True`. Please double check, and if \" +\n",
       "                        \"loading with `%load_ext` please review the README!\"\n",
       "                    console.log(msg)\n",
       "                    alert(msg)\n",
       "                })()\n",
       "                </script>\n",
       "                "
      ],
      "text/plain": [
       "<IPython.core.display.HTML object>"
      ]
     },
     "metadata": {},
     "output_type": "display_data"
    }
   ],
   "source": [
    "jupyter_black.load()\n",
    "pd.options.display.max_columns = 100\n",
    "pd.options.display.max_rows = 1000\n",
    "pd.options.display.max_colwidth = None\n",
    "today = pd.Timestamp.today().strftime(\"%Y-%m-%d\")"
   ]
  },
  {
   "cell_type": "code",
   "execution_count": 4,
   "id": "b81bd4a0-b2ef-4ab3-8fcd-98e1f01292b1",
   "metadata": {
    "execution": {
     "iopub.execute_input": "2024-07-29T06:02:22.501760Z",
     "iopub.status.busy": "2024-07-29T06:02:22.501668Z",
     "iopub.status.idle": "2024-07-29T06:02:22.504499Z",
     "shell.execute_reply": "2024-07-29T06:02:22.504240Z"
    },
    "tags": []
   },
   "outputs": [],
   "source": [
    "# Headers for requests"
   ]
  },
  {
   "cell_type": "code",
   "execution_count": 5,
   "id": "13d790de-b1c9-4107-9cfc-caf4efc28106",
   "metadata": {
    "execution": {
     "iopub.execute_input": "2024-07-29T06:02:22.505954Z",
     "iopub.status.busy": "2024-07-29T06:02:22.505861Z",
     "iopub.status.idle": "2024-07-29T06:02:22.509101Z",
     "shell.execute_reply": "2024-07-29T06:02:22.508869Z"
    },
    "tags": []
   },
   "outputs": [],
   "source": [
    "headers = {\n",
    "    \"Accept\": \"application/json, text/javascript, */*; q=0.01\",\n",
    "    \"Referer\": \"https://www.ottogi.co.kr/en/product/product_search\",\n",
    "}"
   ]
  },
  {
   "cell_type": "code",
   "execution_count": 6,
   "id": "14db1a96-13be-4490-b25e-8a8265300964",
   "metadata": {
    "execution": {
     "iopub.execute_input": "2024-07-29T06:02:22.510520Z",
     "iopub.status.busy": "2024-07-29T06:02:22.510438Z",
     "iopub.status.idle": "2024-07-29T06:02:22.512052Z",
     "shell.execute_reply": "2024-07-29T06:02:22.511823Z"
    },
    "tags": []
   },
   "outputs": [],
   "source": [
    "# Variables"
   ]
  },
  {
   "cell_type": "code",
   "execution_count": 7,
   "id": "b34e32df-870d-4136-8a99-6bb4d468a691",
   "metadata": {
    "execution": {
     "iopub.execute_input": "2024-07-29T06:02:22.513467Z",
     "iopub.status.busy": "2024-07-29T06:02:22.513386Z",
     "iopub.status.idle": "2024-07-29T06:02:22.515889Z",
     "shell.execute_reply": "2024-07-29T06:02:22.515635Z"
    },
    "tags": []
   },
   "outputs": [],
   "source": [
    "brand = \"raos\"\n",
    "parent = \"Campbell Soup Company\"\n",
    "brand_formal = \"Rao's\""
   ]
  },
  {
   "cell_type": "code",
   "execution_count": 8,
   "id": "fe62b6d1-ddce-4a9b-95c0-18dd58912b74",
   "metadata": {
    "execution": {
     "iopub.execute_input": "2024-07-29T06:02:22.517280Z",
     "iopub.status.busy": "2024-07-29T06:02:22.517195Z",
     "iopub.status.idle": "2024-07-29T06:02:22.520646Z",
     "shell.execute_reply": "2024-07-29T06:02:22.520426Z"
    }
   },
   "outputs": [],
   "source": [
    "# BASE = Path(__file__).resolve().parent\n",
    "BASE = Path.cwd()\n",
    "CSV_OUT = BASE / f\"../../../data/brands/{brand}.csv\"\n",
    "JSON_OUT = BASE / f\"../../../data/brands/{brand}.json\""
   ]
  },
  {
   "cell_type": "code",
   "execution_count": 9,
   "id": "b3c49436-e2f0-4b98-9def-c55e419f1c08",
   "metadata": {
    "execution": {
     "iopub.execute_input": "2024-07-29T06:02:22.522060Z",
     "iopub.status.busy": "2024-07-29T06:02:22.521968Z",
     "iopub.status.idle": "2024-07-29T06:02:22.524382Z",
     "shell.execute_reply": "2024-07-29T06:02:22.524166Z"
    }
   },
   "outputs": [],
   "source": [
    "base_url = \"https://www.raos.com\"\n",
    "collection_url = f\"{base_url}/collections/all\""
   ]
  },
  {
   "cell_type": "code",
   "execution_count": 10,
   "id": "ca2d18b8-ee27-43e3-a558-2e1fb56e35bb",
   "metadata": {
    "execution": {
     "iopub.execute_input": "2024-07-29T06:02:22.525884Z",
     "iopub.status.busy": "2024-07-29T06:02:22.525777Z",
     "iopub.status.idle": "2024-07-29T06:02:22.548236Z",
     "shell.execute_reply": "2024-07-29T06:02:22.547955Z"
    }
   },
   "outputs": [],
   "source": [
    "def get_total_products(url):\n",
    "    response = requests.get(url, headers=headers)\n",
    "    soup = BeautifulSoup(response.content, \"html.parser\")\n",
    "    total_products = int(\n",
    "        soup.select_one(\"#ProductCount\").get_text(strip=True).split()[0]\n",
    "    )\n",
    "    return total_products\n",
    "\n",
    "\n",
    "def scrape_page(url):\n",
    "    response = requests.get(url, headers=headers)\n",
    "    soup = BeautifulSoup(response.content, \"html.parser\")\n",
    "    products = []\n",
    "\n",
    "    for product in soup.select(\".grid__item\"):\n",
    "        try:\n",
    "            title_tag = product.select_one(\"h3.card-information__text.h5 a\")\n",
    "            title = title_tag.get_text(strip=True) if title_tag else \"N/A\"\n",
    "\n",
    "            price_tag = product.select_one(\".price__regular .price-item\")\n",
    "            price = price_tag.get_text(strip=True) if price_tag else \"N/A\"\n",
    "\n",
    "            product_url = base_url + title_tag[\"href\"] if title_tag else \"N/A\"\n",
    "\n",
    "            image_tag = product.select_one(\".card__media-full-spacer img\")\n",
    "            image_url = image_tag[\"src\"] if image_tag else \"N/A\"\n",
    "\n",
    "            # Fetch product description if product URL is valid\n",
    "            description = \"N/A\"\n",
    "            if product_url != \"N/A\":\n",
    "                description = scrape_product_description(product_url)\n",
    "\n",
    "            products.append(\n",
    "                {\n",
    "                    \"title\": title,\n",
    "                    \"price\": price,\n",
    "                    \"product_url\": product_url,\n",
    "                    \"image_url\": image_url,\n",
    "                    \"description\": description,\n",
    "                }\n",
    "            )\n",
    "        except Exception as e:\n",
    "            print(f\"Error processing product: {e}\")\n",
    "\n",
    "    return products\n",
    "\n",
    "\n",
    "def scrape_product_description(url):\n",
    "    response = requests.get(url, headers=headers)\n",
    "    soup = BeautifulSoup(response.content, \"html.parser\")\n",
    "    description_tag = soup.select_one(\".product__description.rte p\")\n",
    "    description = description_tag.get_text(strip=True) if description_tag else \"N/A\"\n",
    "    return description\n",
    "\n",
    "\n",
    "def scrape_all_products(collection_url):\n",
    "    total_products = get_total_products(collection_url)\n",
    "    products_per_page = 12\n",
    "    total_pages = (total_products // products_per_page) + 1\n",
    "\n",
    "    all_products = []\n",
    "\n",
    "    for page in range(1, total_pages + 1):\n",
    "        print(f\"Scraping page {page} of {total_pages}\")\n",
    "        url = f\"{collection_url}?page={page}\"\n",
    "        products = scrape_page(url)\n",
    "        all_products.extend(products)\n",
    "        time.sleep(1)  # Add delay to avoid getting blocked\n",
    "\n",
    "    return all_products"
   ]
  },
  {
   "cell_type": "code",
   "execution_count": 11,
   "id": "38ab76d5-f75e-49b6-aca2-d4b2f7b22dc3",
   "metadata": {
    "execution": {
     "iopub.execute_input": "2024-07-29T06:02:22.549729Z",
     "iopub.status.busy": "2024-07-29T06:02:22.549635Z",
     "iopub.status.idle": "2024-07-29T06:05:05.040967Z",
     "shell.execute_reply": "2024-07-29T06:05:05.038982Z"
    }
   },
   "outputs": [
    {
     "name": "stdout",
     "output_type": "stream",
     "text": [
      "Scraping page 1 of 19\n"
     ]
    },
    {
     "name": "stdout",
     "output_type": "stream",
     "text": [
      "Scraping page 2 of 19\n"
     ]
    },
    {
     "name": "stdout",
     "output_type": "stream",
     "text": [
      "Scraping page 3 of 19\n"
     ]
    },
    {
     "name": "stdout",
     "output_type": "stream",
     "text": [
      "Scraping page 4 of 19\n"
     ]
    },
    {
     "name": "stdout",
     "output_type": "stream",
     "text": [
      "Scraping page 5 of 19\n"
     ]
    },
    {
     "name": "stdout",
     "output_type": "stream",
     "text": [
      "Scraping page 6 of 19\n"
     ]
    },
    {
     "name": "stdout",
     "output_type": "stream",
     "text": [
      "Scraping page 7 of 19\n"
     ]
    },
    {
     "name": "stdout",
     "output_type": "stream",
     "text": [
      "Scraping page 8 of 19\n"
     ]
    },
    {
     "name": "stdout",
     "output_type": "stream",
     "text": [
      "Scraping page 9 of 19\n"
     ]
    },
    {
     "name": "stdout",
     "output_type": "stream",
     "text": [
      "Scraping page 10 of 19\n"
     ]
    },
    {
     "name": "stdout",
     "output_type": "stream",
     "text": [
      "Scraping page 11 of 19\n"
     ]
    },
    {
     "name": "stdout",
     "output_type": "stream",
     "text": [
      "Scraping page 12 of 19\n"
     ]
    },
    {
     "name": "stdout",
     "output_type": "stream",
     "text": [
      "Scraping page 13 of 19\n"
     ]
    },
    {
     "name": "stdout",
     "output_type": "stream",
     "text": [
      "Scraping page 14 of 19\n"
     ]
    },
    {
     "name": "stdout",
     "output_type": "stream",
     "text": [
      "Scraping page 15 of 19\n"
     ]
    },
    {
     "name": "stdout",
     "output_type": "stream",
     "text": [
      "Scraping page 16 of 19\n"
     ]
    },
    {
     "name": "stdout",
     "output_type": "stream",
     "text": [
      "Scraping page 17 of 19\n"
     ]
    },
    {
     "name": "stdout",
     "output_type": "stream",
     "text": [
      "Scraping page 18 of 19\n"
     ]
    },
    {
     "name": "stdout",
     "output_type": "stream",
     "text": [
      "Scraping page 19 of 19\n"
     ]
    }
   ],
   "source": [
    "# Main script execution\n",
    "all_products = scrape_all_products(collection_url)"
   ]
  },
  {
   "cell_type": "code",
   "execution_count": 12,
   "id": "e260e911-8965-4248-ae92-97c61ea788a1",
   "metadata": {
    "execution": {
     "iopub.execute_input": "2024-07-29T06:05:05.048408Z",
     "iopub.status.busy": "2024-07-29T06:05:05.047953Z",
     "iopub.status.idle": "2024-07-29T06:05:05.055464Z",
     "shell.execute_reply": "2024-07-29T06:05:05.054844Z"
    }
   },
   "outputs": [],
   "source": [
    "# Convert the list of dictionaries to a DataFrame\n",
    "df = pd.DataFrame(all_products)"
   ]
  },
  {
   "cell_type": "code",
   "execution_count": 13,
   "id": "f9bdd98a-0dd8-48f3-892c-955a14ac2231",
   "metadata": {
    "execution": {
     "iopub.execute_input": "2024-07-29T06:05:05.058407Z",
     "iopub.status.busy": "2024-07-29T06:05:05.058032Z",
     "iopub.status.idle": "2024-07-29T06:05:05.064715Z",
     "shell.execute_reply": "2024-07-29T06:05:05.064316Z"
    }
   },
   "outputs": [],
   "source": [
    "df[\"date_fetch\"] = today\n",
    "df[\"parent\"] = parent\n",
    "df[\"brand\"] = brand_formal"
   ]
  },
  {
   "cell_type": "code",
   "execution_count": 14,
   "id": "ecad9001-59a1-4810-9184-9e4c3e4bd1df",
   "metadata": {
    "execution": {
     "iopub.execute_input": "2024-07-29T06:05:05.067057Z",
     "iopub.status.busy": "2024-07-29T06:05:05.066867Z",
     "iopub.status.idle": "2024-07-29T06:05:05.070873Z",
     "shell.execute_reply": "2024-07-29T06:05:05.070460Z"
    }
   },
   "outputs": [
    {
     "data": {
      "text/plain": [
       "243"
      ]
     },
     "execution_count": 14,
     "metadata": {},
     "output_type": "execute_result"
    }
   ],
   "source": [
    "len(df)"
   ]
  },
  {
   "cell_type": "code",
   "execution_count": 15,
   "id": "9670f10f-1a1a-44f0-93b4-ae00cf33bc41",
   "metadata": {
    "execution": {
     "iopub.execute_input": "2024-07-29T06:05:05.073292Z",
     "iopub.status.busy": "2024-07-29T06:05:05.073148Z",
     "iopub.status.idle": "2024-07-29T06:05:05.075674Z",
     "shell.execute_reply": "2024-07-29T06:05:05.075308Z"
    },
    "tags": []
   },
   "outputs": [],
   "source": [
    "# Output"
   ]
  },
  {
   "cell_type": "code",
   "execution_count": 16,
   "id": "feb97950-94d1-4ecc-b48f-c73835449afd",
   "metadata": {
    "execution": {
     "iopub.execute_input": "2024-07-29T06:05:05.077693Z",
     "iopub.status.busy": "2024-07-29T06:05:05.077528Z",
     "iopub.status.idle": "2024-07-29T06:05:05.085580Z",
     "shell.execute_reply": "2024-07-29T06:05:05.085210Z"
    },
    "tags": []
   },
   "outputs": [],
   "source": [
    "# Local files\n",
    "df.to_csv(CSV_OUT, index=False)\n",
    "df.to_json(JSON_OUT, indent=4, orient=\"records\")"
   ]
  },
  {
   "cell_type": "code",
   "execution_count": 17,
   "id": "6d9d20d8-415f-420a-b006-965f007886a7",
   "metadata": {
    "execution": {
     "iopub.execute_input": "2024-07-29T06:05:05.087533Z",
     "iopub.status.busy": "2024-07-29T06:05:05.087377Z",
     "iopub.status.idle": "2024-07-29T06:05:06.177506Z",
     "shell.execute_reply": "2024-07-29T06:05:06.176256Z"
    }
   },
   "outputs": [
    {
     "name": "stdout",
     "output_type": "stream",
     "text": [
      "CSV file uploaded to s3://stilesdata.com/products/data/raos.csv\n"
     ]
    },
    {
     "name": "stdout",
     "output_type": "stream",
     "text": [
      "JSON file uploaded to s3://stilesdata.com/products/data/raos.json\n"
     ]
    }
   ],
   "source": [
    "# Paths for S3 storage\n",
    "S3_BUCKET = \"stilesdata.com\"\n",
    "S3_CSV_KEY = f\"products/data/{brand}.csv\"\n",
    "S3_JSON_KEY = f\"products/data/{brand}.json\"\n",
    "\n",
    "# Initialize boto3 client with environment variables\n",
    "s3_client = boto3.client(\n",
    "    \"s3\",\n",
    "    aws_access_key_id=os.getenv(\"MY_AWS_ACCESS_KEY_ID\"),\n",
    "    aws_secret_access_key=os.getenv(\"MY_AWS_SECRET_ACCESS_KEY\"),\n",
    "    aws_session_token=os.getenv(\"MY_AWS_SESSION_TOKEN\"),\n",
    ")\n",
    "\n",
    "# Upload the CSV file to S3\n",
    "s3_client.upload_file(str(CSV_OUT), S3_BUCKET, S3_CSV_KEY)\n",
    "print(f\"CSV file uploaded to s3://{S3_BUCKET}/{S3_CSV_KEY}\")\n",
    "\n",
    "# Upload the JSON file\n",
    "s3_client.upload_file(str(JSON_OUT), S3_BUCKET, S3_JSON_KEY)\n",
    "print(f\"JSON file uploaded to s3://{S3_BUCKET}/{S3_JSON_KEY}\")"
   ]
  }
 ],
 "metadata": {
  "kernelspec": {
   "display_name": "Python 3 (ipykernel)",
   "language": "python",
   "name": "python3"
  },
  "language_info": {
   "codemirror_mode": {
    "name": "ipython",
    "version": 3
   },
   "file_extension": ".py",
   "mimetype": "text/x-python",
   "name": "python",
   "nbconvert_exporter": "python",
   "pygments_lexer": "ipython3",
   "version": "3.9.15"
  }
 },
 "nbformat": 4,
 "nbformat_minor": 5
}
