{
 "cells": [
  {
   "cell_type": "markdown",
   "id": "771bcc23-2271-4ac2-be58-b9d7442948dc",
   "metadata": {},
   "source": [
    "# Fetch products from Brandy Melville"
   ]
  },
  {
   "cell_type": "markdown",
   "id": "5e9f7dd0-5ee7-4880-a3ec-496b726d5d81",
   "metadata": {},
   "source": [
    "> This notebook collects and processes listings on the company's [product page](https://us.brandymelville.com/collections/all)."
   ]
  },
  {
   "cell_type": "code",
   "execution_count": 1,
   "id": "59201393-d063-4fe3-8cd9-99e5033701b1",
   "metadata": {
    "execution": {
     "iopub.execute_input": "2024-07-29T05:59:37.239469Z",
     "iopub.status.busy": "2024-07-29T05:59:37.239021Z",
     "iopub.status.idle": "2024-07-29T05:59:37.245236Z",
     "shell.execute_reply": "2024-07-29T05:59:37.244461Z"
    },
    "tags": []
   },
   "outputs": [],
   "source": [
    "# Python tools and Jupyter config"
   ]
  },
  {
   "cell_type": "code",
   "execution_count": 2,
   "id": "8687d089-2f69-40b9-a687-3fb37554de8c",
   "metadata": {
    "execution": {
     "iopub.execute_input": "2024-07-29T05:59:37.249360Z",
     "iopub.status.busy": "2024-07-29T05:59:37.249005Z",
     "iopub.status.idle": "2024-07-29T05:59:37.688244Z",
     "shell.execute_reply": "2024-07-29T05:59:37.687854Z"
    },
    "tags": []
   },
   "outputs": [],
   "source": [
    "import os\n",
    "import re\n",
    "import json\n",
    "import time\n",
    "import boto3\n",
    "import requests\n",
    "import pandas as pd\n",
    "import jupyter_black\n",
    "from time import sleep\n",
    "from pathlib import Path\n",
    "from random import randint\n",
    "from bs4 import BeautifulSoup\n",
    "from tqdm import tqdm"
   ]
  },
  {
   "cell_type": "code",
   "execution_count": 3,
   "id": "2f81abae-9a59-432d-8212-031f3e752734",
   "metadata": {
    "execution": {
     "iopub.execute_input": "2024-07-29T05:59:37.690793Z",
     "iopub.status.busy": "2024-07-29T05:59:37.690573Z",
     "iopub.status.idle": "2024-07-29T05:59:37.695501Z",
     "shell.execute_reply": "2024-07-29T05:59:37.695099Z"
    },
    "tags": []
   },
   "outputs": [
    {
     "data": {
      "text/html": [
       "\n",
       "                <script type=\"application/javascript\" id=\"jupyter_black\">\n",
       "                (function() {\n",
       "                    if (window.IPython === undefined) {\n",
       "                        return\n",
       "                    }\n",
       "                    var msg = \"WARNING: it looks like you might have loaded \" +\n",
       "                        \"jupyter_black in a non-lab notebook with \" +\n",
       "                        \"`is_lab=True`. Please double check, and if \" +\n",
       "                        \"loading with `%load_ext` please review the README!\"\n",
       "                    console.log(msg)\n",
       "                    alert(msg)\n",
       "                })()\n",
       "                </script>\n",
       "                "
      ],
      "text/plain": [
       "<IPython.core.display.HTML object>"
      ]
     },
     "metadata": {},
     "output_type": "display_data"
    }
   ],
   "source": [
    "jupyter_black.load()\n",
    "pd.options.display.max_columns = 100\n",
    "pd.options.display.max_rows = 1000\n",
    "pd.options.display.max_colwidth = None\n",
    "today = pd.Timestamp.today().strftime(\"%Y-%m-%d\")"
   ]
  },
  {
   "cell_type": "code",
   "execution_count": 4,
   "id": "b81bd4a0-b2ef-4ab3-8fcd-98e1f01292b1",
   "metadata": {
    "execution": {
     "iopub.execute_input": "2024-07-29T05:59:37.697576Z",
     "iopub.status.busy": "2024-07-29T05:59:37.697411Z",
     "iopub.status.idle": "2024-07-29T05:59:37.700729Z",
     "shell.execute_reply": "2024-07-29T05:59:37.700300Z"
    },
    "tags": []
   },
   "outputs": [],
   "source": [
    "# Headers for requests"
   ]
  },
  {
   "cell_type": "code",
   "execution_count": 5,
   "id": "13d790de-b1c9-4107-9cfc-caf4efc28106",
   "metadata": {
    "execution": {
     "iopub.execute_input": "2024-07-29T05:59:37.702788Z",
     "iopub.status.busy": "2024-07-29T05:59:37.702644Z",
     "iopub.status.idle": "2024-07-29T05:59:37.706493Z",
     "shell.execute_reply": "2024-07-29T05:59:37.706079Z"
    },
    "tags": []
   },
   "outputs": [],
   "source": [
    "headers = {\n",
    "    \"Accept\": \"application/json, text/javascript, */*; q=0.01\",\n",
    "    \"Referer\": \"https://www.ottogi.co.kr/en/product/product_search\",\n",
    "}"
   ]
  },
  {
   "cell_type": "code",
   "execution_count": 6,
   "id": "14db1a96-13be-4490-b25e-8a8265300964",
   "metadata": {
    "execution": {
     "iopub.execute_input": "2024-07-29T05:59:37.708616Z",
     "iopub.status.busy": "2024-07-29T05:59:37.708471Z",
     "iopub.status.idle": "2024-07-29T05:59:37.710549Z",
     "shell.execute_reply": "2024-07-29T05:59:37.710219Z"
    },
    "tags": []
   },
   "outputs": [],
   "source": [
    "# Variables"
   ]
  },
  {
   "cell_type": "code",
   "execution_count": 7,
   "id": "b34e32df-870d-4136-8a99-6bb4d468a691",
   "metadata": {
    "execution": {
     "iopub.execute_input": "2024-07-29T05:59:37.712506Z",
     "iopub.status.busy": "2024-07-29T05:59:37.712367Z",
     "iopub.status.idle": "2024-07-29T05:59:37.715643Z",
     "shell.execute_reply": "2024-07-29T05:59:37.715186Z"
    },
    "tags": []
   },
   "outputs": [],
   "source": [
    "brand = \"brandy_melville\"\n",
    "parent = \"Marsan Family\"\n",
    "brand_formal = \"Brandy Melville\""
   ]
  },
  {
   "cell_type": "code",
   "execution_count": 8,
   "id": "fe62b6d1-ddce-4a9b-95c0-18dd58912b74",
   "metadata": {
    "execution": {
     "iopub.execute_input": "2024-07-29T05:59:37.717742Z",
     "iopub.status.busy": "2024-07-29T05:59:37.717623Z",
     "iopub.status.idle": "2024-07-29T05:59:37.721814Z",
     "shell.execute_reply": "2024-07-29T05:59:37.721476Z"
    }
   },
   "outputs": [],
   "source": [
    "# BASE = Path(__file__).resolve().parent\n",
    "BASE = Path.cwd()\n",
    "CSV_OUT = BASE / f\"../../../data/brands/{brand}.csv\"\n",
    "JSON_OUT = BASE / f\"../../../data/brands/{brand}.json\""
   ]
  },
  {
   "cell_type": "code",
   "execution_count": 9,
   "id": "b3c49436-e2f0-4b98-9def-c55e419f1c08",
   "metadata": {
    "execution": {
     "iopub.execute_input": "2024-07-29T05:59:37.723932Z",
     "iopub.status.busy": "2024-07-29T05:59:37.723670Z",
     "iopub.status.idle": "2024-07-29T05:59:37.726720Z",
     "shell.execute_reply": "2024-07-29T05:59:37.726373Z"
    }
   },
   "outputs": [],
   "source": [
    "base_url = \"https://us.brandymelville.com\"\n",
    "collection_url = f\"{base_url}/collections/all\""
   ]
  },
  {
   "cell_type": "code",
   "execution_count": 10,
   "id": "ca2d18b8-ee27-43e3-a558-2e1fb56e35bb",
   "metadata": {
    "execution": {
     "iopub.execute_input": "2024-07-29T05:59:37.728691Z",
     "iopub.status.busy": "2024-07-29T05:59:37.728578Z",
     "iopub.status.idle": "2024-07-29T05:59:37.765508Z",
     "shell.execute_reply": "2024-07-29T05:59:37.765135Z"
    }
   },
   "outputs": [],
   "source": [
    "def clean_description_text(text):\n",
    "    return re.sub(r\"\\s+\", \" \", text.replace(\"\\n\", \" \")).strip()\n",
    "\n",
    "\n",
    "def parse_description(description_text):\n",
    "    description = \"N/A\"\n",
    "    fabrics = \"N/A\"\n",
    "    measurements = \"N/A\"\n",
    "    manufactured_in = \"N/A\"\n",
    "\n",
    "    # Clean the description text\n",
    "    description_text = clean_description_text(description_text)\n",
    "\n",
    "    # Extract description\n",
    "    description_match = re.search(\n",
    "        r\"Product Photo - (.*?)Fabrics:\", description_text, re.DOTALL\n",
    "    )\n",
    "    if description_match:\n",
    "        description = description_match.group(1).strip()\n",
    "    else:\n",
    "        description = (\n",
    "            description_text.split(\"Fabrics:\")[0]\n",
    "            .replace(\"Product Photo - \", \"\")\n",
    "            .strip()\n",
    "        )\n",
    "\n",
    "    # Extract fabrics\n",
    "    fabrics_match = re.search(\n",
    "        r\"Fabrics:\\s*(.*?)(Measurements?:|Made in:|$)\", description_text\n",
    "    )\n",
    "    if fabrics_match:\n",
    "        fabrics = fabrics_match.group(1).strip()\n",
    "\n",
    "    # Extract measurements\n",
    "    measurements_match = re.search(\n",
    "        r\"Measurements?:\\s*(.*?)(Made in:|$)\", description_text\n",
    "    )\n",
    "    if measurements_match:\n",
    "        measurements = measurements_match.group(1).strip()\n",
    "\n",
    "    # Extract made in\n",
    "    manufactured_in_match = re.search(\n",
    "        r\"Made in:\\s*(.*?)(Measurements?:|$)\", description_text\n",
    "    )\n",
    "    if manufactured_in_match:\n",
    "        manufactured_in = manufactured_in_match.group(1).strip()\n",
    "\n",
    "    return description, fabrics, measurements, manufactured_in\n",
    "\n",
    "\n",
    "# Function to scrape product data from a single page\n",
    "def scrape_page(url):\n",
    "    response = requests.get(url, headers=headers)\n",
    "    soup = BeautifulSoup(response.content, \"html.parser\")\n",
    "    products = []\n",
    "\n",
    "    for product in soup.select(\".grid__item\"):\n",
    "        try:\n",
    "            title_tag = product.select_one(\".card-information__text.h5\")\n",
    "            title = (\n",
    "                title_tag.get_text(strip=True).replace(\"Product Name:\", \"\").strip()\n",
    "                if title_tag\n",
    "                else \"N/A\"\n",
    "            )\n",
    "\n",
    "            price_tag = product.select_one(\".price__regular .price-item\")\n",
    "            price = (\n",
    "                price_tag.get_text(strip=True).replace(\"Product Price:\", \"\").strip()\n",
    "                if price_tag\n",
    "                else \"N/A\"\n",
    "            )\n",
    "\n",
    "            product_url_tag = product.select_one(\"a.full-unstyled-link\")\n",
    "            product_url = (\n",
    "                base_url + product_url_tag[\"href\"] if product_url_tag else \"N/A\"\n",
    "            )\n",
    "\n",
    "            image_tag = product.select_one(\".media img\")\n",
    "            image_url = \"https:\" + image_tag[\"src\"] if image_tag else \"N/A\"\n",
    "\n",
    "            # Extract the description and split it into components\n",
    "            description_tag = product.select_one(\".visually-hidden\")\n",
    "            if description_tag:\n",
    "                description_text = description_tag.get_text(strip=True)\n",
    "                description, fabrics, measurements, manufactured_in = parse_description(\n",
    "                    description_text\n",
    "                )\n",
    "            else:\n",
    "                description, fabrics, measurements, manufactured_in = (\n",
    "                    \"N/A\",\n",
    "                    \"N/A\",\n",
    "                    \"N/A\",\n",
    "                    \"N/A\",\n",
    "                )\n",
    "\n",
    "            products.append(\n",
    "                {\n",
    "                    \"title\": title,\n",
    "                    \"price\": price,\n",
    "                    \"product_url\": product_url,\n",
    "                    \"image_url\": image_url,\n",
    "                    \"description\": description,\n",
    "                    \"fabrics\": fabrics,\n",
    "                    \"measurements\": measurements,\n",
    "                    \"manufactured_in\": manufactured_in,\n",
    "                }\n",
    "            )\n",
    "        except Exception as e:\n",
    "            print(f\"Error processing product: {e}\")\n",
    "\n",
    "    return products\n",
    "\n",
    "\n",
    "def scrape_all_products(collection_url):\n",
    "    products_per_page = 20\n",
    "    page = 1\n",
    "    all_products = []\n",
    "\n",
    "    while True:\n",
    "        url = f\"{collection_url}?page={page}\"\n",
    "        print(f\"Scraping page {page}\")\n",
    "        products = scrape_page(url)\n",
    "        if not products:\n",
    "            break\n",
    "        all_products.extend(products)\n",
    "        page += 1\n",
    "        time.sleep(1)  # Add delay to avoid getting blocked\n",
    "\n",
    "    return all_products"
   ]
  },
  {
   "cell_type": "code",
   "execution_count": 11,
   "id": "38ab76d5-f75e-49b6-aca2-d4b2f7b22dc3",
   "metadata": {
    "execution": {
     "iopub.execute_input": "2024-07-29T05:59:37.767532Z",
     "iopub.status.busy": "2024-07-29T05:59:37.767397Z",
     "iopub.status.idle": "2024-07-29T06:00:38.010293Z",
     "shell.execute_reply": "2024-07-29T06:00:38.009590Z"
    }
   },
   "outputs": [
    {
     "name": "stdout",
     "output_type": "stream",
     "text": [
      "Scraping page 1\n"
     ]
    },
    {
     "name": "stdout",
     "output_type": "stream",
     "text": [
      "Scraping page 2\n"
     ]
    },
    {
     "name": "stdout",
     "output_type": "stream",
     "text": [
      "Scraping page 3\n"
     ]
    },
    {
     "name": "stdout",
     "output_type": "stream",
     "text": [
      "Scraping page 4\n"
     ]
    },
    {
     "name": "stdout",
     "output_type": "stream",
     "text": [
      "Scraping page 5\n"
     ]
    },
    {
     "name": "stdout",
     "output_type": "stream",
     "text": [
      "Scraping page 6\n"
     ]
    },
    {
     "name": "stdout",
     "output_type": "stream",
     "text": [
      "Scraping page 7\n"
     ]
    },
    {
     "name": "stdout",
     "output_type": "stream",
     "text": [
      "Scraping page 8\n"
     ]
    },
    {
     "name": "stdout",
     "output_type": "stream",
     "text": [
      "Scraping page 9\n"
     ]
    },
    {
     "name": "stdout",
     "output_type": "stream",
     "text": [
      "Scraping page 10\n"
     ]
    },
    {
     "name": "stdout",
     "output_type": "stream",
     "text": [
      "Scraping page 11\n"
     ]
    },
    {
     "name": "stdout",
     "output_type": "stream",
     "text": [
      "Scraping page 12\n"
     ]
    },
    {
     "name": "stdout",
     "output_type": "stream",
     "text": [
      "Scraping page 13\n"
     ]
    },
    {
     "name": "stdout",
     "output_type": "stream",
     "text": [
      "Scraping page 14\n"
     ]
    },
    {
     "name": "stdout",
     "output_type": "stream",
     "text": [
      "Scraping page 15\n"
     ]
    },
    {
     "name": "stdout",
     "output_type": "stream",
     "text": [
      "Scraping page 16\n"
     ]
    },
    {
     "name": "stdout",
     "output_type": "stream",
     "text": [
      "Scraping page 17\n"
     ]
    },
    {
     "name": "stdout",
     "output_type": "stream",
     "text": [
      "Scraping page 18\n"
     ]
    },
    {
     "name": "stdout",
     "output_type": "stream",
     "text": [
      "Scraping page 19\n"
     ]
    },
    {
     "name": "stdout",
     "output_type": "stream",
     "text": [
      "Scraping page 20\n"
     ]
    },
    {
     "name": "stdout",
     "output_type": "stream",
     "text": [
      "Scraping page 21\n"
     ]
    },
    {
     "name": "stdout",
     "output_type": "stream",
     "text": [
      "Scraping page 22\n"
     ]
    },
    {
     "name": "stdout",
     "output_type": "stream",
     "text": [
      "Scraping page 23\n"
     ]
    },
    {
     "name": "stdout",
     "output_type": "stream",
     "text": [
      "Scraping page 24\n"
     ]
    },
    {
     "name": "stdout",
     "output_type": "stream",
     "text": [
      "Scraping page 25\n"
     ]
    },
    {
     "name": "stdout",
     "output_type": "stream",
     "text": [
      "Scraping page 26\n"
     ]
    },
    {
     "name": "stdout",
     "output_type": "stream",
     "text": [
      "Scraping page 27\n"
     ]
    },
    {
     "name": "stdout",
     "output_type": "stream",
     "text": [
      "Scraping page 28\n"
     ]
    },
    {
     "name": "stdout",
     "output_type": "stream",
     "text": [
      "Scraping page 29\n"
     ]
    },
    {
     "name": "stdout",
     "output_type": "stream",
     "text": [
      "Scraping page 30\n"
     ]
    },
    {
     "name": "stdout",
     "output_type": "stream",
     "text": [
      "Scraping page 31\n"
     ]
    },
    {
     "name": "stdout",
     "output_type": "stream",
     "text": [
      "Scraping page 32\n"
     ]
    },
    {
     "name": "stdout",
     "output_type": "stream",
     "text": [
      "Scraping page 33\n"
     ]
    },
    {
     "name": "stdout",
     "output_type": "stream",
     "text": [
      "Scraping page 34\n"
     ]
    },
    {
     "name": "stdout",
     "output_type": "stream",
     "text": [
      "Scraping page 35\n"
     ]
    },
    {
     "name": "stdout",
     "output_type": "stream",
     "text": [
      "Scraping page 36\n"
     ]
    },
    {
     "name": "stdout",
     "output_type": "stream",
     "text": [
      "Scraping page 37\n"
     ]
    },
    {
     "name": "stdout",
     "output_type": "stream",
     "text": [
      "Scraping page 38\n"
     ]
    },
    {
     "name": "stdout",
     "output_type": "stream",
     "text": [
      "Scraping page 39\n"
     ]
    },
    {
     "name": "stdout",
     "output_type": "stream",
     "text": [
      "Scraping page 40\n"
     ]
    }
   ],
   "source": [
    "# Main script execution\n",
    "all_products = scrape_all_products(collection_url)"
   ]
  },
  {
   "cell_type": "code",
   "execution_count": 12,
   "id": "e260e911-8965-4248-ae92-97c61ea788a1",
   "metadata": {
    "execution": {
     "iopub.execute_input": "2024-07-29T06:00:38.013745Z",
     "iopub.status.busy": "2024-07-29T06:00:38.013515Z",
     "iopub.status.idle": "2024-07-29T06:00:38.019057Z",
     "shell.execute_reply": "2024-07-29T06:00:38.018677Z"
    }
   },
   "outputs": [],
   "source": [
    "# Convert the list of dictionaries to a DataFrame\n",
    "df = pd.DataFrame(all_products)"
   ]
  },
  {
   "cell_type": "code",
   "execution_count": 13,
   "id": "f9bdd98a-0dd8-48f3-892c-955a14ac2231",
   "metadata": {
    "execution": {
     "iopub.execute_input": "2024-07-29T06:00:38.021312Z",
     "iopub.status.busy": "2024-07-29T06:00:38.021113Z",
     "iopub.status.idle": "2024-07-29T06:00:38.026097Z",
     "shell.execute_reply": "2024-07-29T06:00:38.025512Z"
    }
   },
   "outputs": [],
   "source": [
    "df[\"date_fetch\"] = today\n",
    "df[\"parent\"] = parent\n",
    "df[\"brand\"] = brand_formal"
   ]
  },
  {
   "cell_type": "code",
   "execution_count": 14,
   "id": "933a1ab5-3192-4fd7-b94a-bbab10c249fb",
   "metadata": {
    "execution": {
     "iopub.execute_input": "2024-07-29T06:00:38.028602Z",
     "iopub.status.busy": "2024-07-29T06:00:38.028282Z",
     "iopub.status.idle": "2024-07-29T06:00:38.031607Z",
     "shell.execute_reply": "2024-07-29T06:00:38.031075Z"
    }
   },
   "outputs": [
    {
     "data": {
      "text/plain": [
       "780"
      ]
     },
     "execution_count": 14,
     "metadata": {},
     "output_type": "execute_result"
    }
   ],
   "source": [
    "len(df)"
   ]
  },
  {
   "cell_type": "code",
   "execution_count": 15,
   "id": "9670f10f-1a1a-44f0-93b4-ae00cf33bc41",
   "metadata": {
    "execution": {
     "iopub.execute_input": "2024-07-29T06:00:38.033592Z",
     "iopub.status.busy": "2024-07-29T06:00:38.033447Z",
     "iopub.status.idle": "2024-07-29T06:00:38.035747Z",
     "shell.execute_reply": "2024-07-29T06:00:38.035376Z"
    },
    "tags": []
   },
   "outputs": [],
   "source": [
    "# Output"
   ]
  },
  {
   "cell_type": "code",
   "execution_count": 16,
   "id": "feb97950-94d1-4ecc-b48f-c73835449afd",
   "metadata": {
    "execution": {
     "iopub.execute_input": "2024-07-29T06:00:38.037713Z",
     "iopub.status.busy": "2024-07-29T06:00:38.037575Z",
     "iopub.status.idle": "2024-07-29T06:00:38.049092Z",
     "shell.execute_reply": "2024-07-29T06:00:38.048637Z"
    },
    "tags": []
   },
   "outputs": [],
   "source": [
    "# Local files\n",
    "df.to_csv(CSV_OUT, index=False)\n",
    "df.to_json(JSON_OUT, indent=4, orient=\"records\")"
   ]
  },
  {
   "cell_type": "code",
   "execution_count": 17,
   "id": "6d9d20d8-415f-420a-b006-965f007886a7",
   "metadata": {
    "execution": {
     "iopub.execute_input": "2024-07-29T06:00:38.051250Z",
     "iopub.status.busy": "2024-07-29T06:00:38.051113Z",
     "iopub.status.idle": "2024-07-29T06:00:39.590224Z",
     "shell.execute_reply": "2024-07-29T06:00:39.588927Z"
    }
   },
   "outputs": [
    {
     "name": "stdout",
     "output_type": "stream",
     "text": [
      "CSV file uploaded to s3://stilesdata.com/products/data/brandy_melville.csv\n"
     ]
    },
    {
     "name": "stdout",
     "output_type": "stream",
     "text": [
      "JSON file uploaded to s3://stilesdata.com/products/data/brandy_melville.json\n"
     ]
    }
   ],
   "source": [
    "# Paths for S3 storage\n",
    "S3_BUCKET = \"stilesdata.com\"\n",
    "S3_CSV_KEY = f\"products/data/{brand}.csv\"\n",
    "S3_JSON_KEY = f\"products/data/{brand}.json\"\n",
    "\n",
    "# Initialize boto3 client with environment variables\n",
    "s3_client = boto3.client(\n",
    "    \"s3\",\n",
    "    aws_access_key_id=os.getenv(\"MY_AWS_ACCESS_KEY_ID\"),\n",
    "    aws_secret_access_key=os.getenv(\"MY_AWS_SECRET_ACCESS_KEY\"),\n",
    "    aws_session_token=os.getenv(\"MY_AWS_SESSION_TOKEN\"),\n",
    ")\n",
    "\n",
    "# Upload the CSV file to S3\n",
    "s3_client.upload_file(str(CSV_OUT), S3_BUCKET, S3_CSV_KEY)\n",
    "print(f\"CSV file uploaded to s3://{S3_BUCKET}/{S3_CSV_KEY}\")\n",
    "\n",
    "# Upload the JSON file\n",
    "s3_client.upload_file(str(JSON_OUT), S3_BUCKET, S3_JSON_KEY)\n",
    "print(f\"JSON file uploaded to s3://{S3_BUCKET}/{S3_JSON_KEY}\")"
   ]
  }
 ],
 "metadata": {
  "kernelspec": {
   "display_name": "Python 3 (ipykernel)",
   "language": "python",
   "name": "python3"
  },
  "language_info": {
   "codemirror_mode": {
    "name": "ipython",
    "version": 3
   },
   "file_extension": ".py",
   "mimetype": "text/x-python",
   "name": "python",
   "nbconvert_exporter": "python",
   "pygments_lexer": "ipython3",
   "version": "3.9.15"
  }
 },
 "nbformat": 4,
 "nbformat_minor": 5
}
