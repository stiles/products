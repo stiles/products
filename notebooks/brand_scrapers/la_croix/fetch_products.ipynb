{
 "cells": [
  {
   "cell_type": "markdown",
   "id": "771bcc23-2271-4ac2-be58-b9d7442948dc",
   "metadata": {},
   "source": [
    "# Fetch products from La Croix"
   ]
  },
  {
   "cell_type": "markdown",
   "id": "5e9f7dd0-5ee7-4880-a3ec-496b726d5d81",
   "metadata": {},
   "source": [
    "> This notebook collects and processes listings on the company's product page."
   ]
  },
  {
   "cell_type": "code",
   "execution_count": 1,
   "id": "59201393-d063-4fe3-8cd9-99e5033701b1",
   "metadata": {
    "execution": {
     "iopub.execute_input": "2024-07-29T06:01:14.331361Z",
     "iopub.status.busy": "2024-07-29T06:01:14.330867Z",
     "iopub.status.idle": "2024-07-29T06:01:14.336004Z",
     "shell.execute_reply": "2024-07-29T06:01:14.335455Z"
    },
    "tags": []
   },
   "outputs": [],
   "source": [
    "# Python tools and Jupyter config"
   ]
  },
  {
   "cell_type": "code",
   "execution_count": 2,
   "id": "8687d089-2f69-40b9-a687-3fb37554de8c",
   "metadata": {
    "execution": {
     "iopub.execute_input": "2024-07-29T06:01:14.339106Z",
     "iopub.status.busy": "2024-07-29T06:01:14.338896Z",
     "iopub.status.idle": "2024-07-29T06:01:14.762688Z",
     "shell.execute_reply": "2024-07-29T06:01:14.762313Z"
    },
    "tags": []
   },
   "outputs": [],
   "source": [
    "import os\n",
    "import json\n",
    "import boto3\n",
    "import requests\n",
    "import pandas as pd\n",
    "import jupyter_black\n",
    "from time import sleep\n",
    "from pathlib import Path\n",
    "from random import randint\n",
    "from bs4 import BeautifulSoup\n",
    "from tqdm import tqdm"
   ]
  },
  {
   "cell_type": "code",
   "execution_count": 3,
   "id": "2f81abae-9a59-432d-8212-031f3e752734",
   "metadata": {
    "execution": {
     "iopub.execute_input": "2024-07-29T06:01:14.764637Z",
     "iopub.status.busy": "2024-07-29T06:01:14.764483Z",
     "iopub.status.idle": "2024-07-29T06:01:14.768559Z",
     "shell.execute_reply": "2024-07-29T06:01:14.768329Z"
    },
    "tags": []
   },
   "outputs": [
    {
     "data": {
      "text/html": [
       "\n",
       "                <script type=\"application/javascript\" id=\"jupyter_black\">\n",
       "                (function() {\n",
       "                    if (window.IPython === undefined) {\n",
       "                        return\n",
       "                    }\n",
       "                    var msg = \"WARNING: it looks like you might have loaded \" +\n",
       "                        \"jupyter_black in a non-lab notebook with \" +\n",
       "                        \"`is_lab=True`. Please double check, and if \" +\n",
       "                        \"loading with `%load_ext` please review the README!\"\n",
       "                    console.log(msg)\n",
       "                    alert(msg)\n",
       "                })()\n",
       "                </script>\n",
       "                "
      ],
      "text/plain": [
       "<IPython.core.display.HTML object>"
      ]
     },
     "metadata": {},
     "output_type": "display_data"
    }
   ],
   "source": [
    "jupyter_black.load()\n",
    "pd.options.display.max_columns = 100\n",
    "pd.options.display.max_rows = 1000\n",
    "pd.options.display.max_colwidth = None\n",
    "today = pd.Timestamp.today().strftime(\"%Y-%m-%d\")"
   ]
  },
  {
   "cell_type": "code",
   "execution_count": 4,
   "id": "14db1a96-13be-4490-b25e-8a8265300964",
   "metadata": {
    "execution": {
     "iopub.execute_input": "2024-07-29T06:01:14.770055Z",
     "iopub.status.busy": "2024-07-29T06:01:14.769958Z",
     "iopub.status.idle": "2024-07-29T06:01:14.772616Z",
     "shell.execute_reply": "2024-07-29T06:01:14.772372Z"
    },
    "tags": []
   },
   "outputs": [],
   "source": [
    "# Variables"
   ]
  },
  {
   "cell_type": "code",
   "execution_count": 5,
   "id": "b34e32df-870d-4136-8a99-6bb4d468a691",
   "metadata": {
    "execution": {
     "iopub.execute_input": "2024-07-29T06:01:14.774224Z",
     "iopub.status.busy": "2024-07-29T06:01:14.774131Z",
     "iopub.status.idle": "2024-07-29T06:01:14.776994Z",
     "shell.execute_reply": "2024-07-29T06:01:14.776743Z"
    },
    "tags": []
   },
   "outputs": [],
   "source": [
    "brand = \"la_croix\"\n",
    "brand_formal = \"La Croix\"\n",
    "parent = \"National Beverage Corporation\""
   ]
  },
  {
   "cell_type": "code",
   "execution_count": 6,
   "id": "b9654fe2-631b-4446-a614-d002ac9c8057",
   "metadata": {
    "execution": {
     "iopub.execute_input": "2024-07-29T06:01:14.778433Z",
     "iopub.status.busy": "2024-07-29T06:01:14.778349Z",
     "iopub.status.idle": "2024-07-29T06:01:14.781821Z",
     "shell.execute_reply": "2024-07-29T06:01:14.781585Z"
    }
   },
   "outputs": [],
   "source": [
    "# BASE = Path(__file__).resolve().parent\n",
    "BASE = Path.cwd()\n",
    "CSV_OUT = BASE / f\"../../../data/brands/{brand}.csv\"\n",
    "JSON_OUT = BASE / f\"../../../data/brands/{brand}.json\""
   ]
  },
  {
   "cell_type": "markdown",
   "id": "a2155a50-c399-4200-9882-d6b3fdbdad92",
   "metadata": {},
   "source": [
    "---"
   ]
  },
  {
   "cell_type": "code",
   "execution_count": 7,
   "id": "781eb25c-5d41-42f4-bc7a-2ee65ddc955f",
   "metadata": {
    "execution": {
     "iopub.execute_input": "2024-07-29T06:01:14.783305Z",
     "iopub.status.busy": "2024-07-29T06:01:14.783221Z",
     "iopub.status.idle": "2024-07-29T06:01:14.786303Z",
     "shell.execute_reply": "2024-07-29T06:01:14.786087Z"
    }
   },
   "outputs": [],
   "source": [
    "# Headers for the requests\n",
    "headers = {\n",
    "    \"Referer\": \"https://www.heinz.com/\",\n",
    "    \"User-Agent\": \"Mozilla/5.0 (Macintosh; Intel Mac OS X 10_15_7) AppleWebKit/537.36 (KHTML, like Gecko) Chrome/126.0.0.0 Safari/537.36\",\n",
    "}"
   ]
  },
  {
   "cell_type": "code",
   "execution_count": 8,
   "id": "008fb022-1db7-4c44-af27-7f093985c7b3",
   "metadata": {
    "execution": {
     "iopub.execute_input": "2024-07-29T06:01:14.787665Z",
     "iopub.status.busy": "2024-07-29T06:01:14.787578Z",
     "iopub.status.idle": "2024-07-29T06:01:14.789690Z",
     "shell.execute_reply": "2024-07-29T06:01:14.789452Z"
    }
   },
   "outputs": [],
   "source": [
    "# Base url\n",
    "base_url = \"https://www.lacroixwater.com/flavors/page/{}\""
   ]
  },
  {
   "cell_type": "code",
   "execution_count": 9,
   "id": "29d3e02d-03a8-4f72-be1f-2fa556a81268",
   "metadata": {
    "execution": {
     "iopub.execute_input": "2024-07-29T06:01:14.791192Z",
     "iopub.status.busy": "2024-07-29T06:01:14.791105Z",
     "iopub.status.idle": "2024-07-29T06:01:18.204563Z",
     "shell.execute_reply": "2024-07-29T06:01:18.202777Z"
    }
   },
   "outputs": [],
   "source": [
    "# Scrape all flavor items\n",
    "flavors = []\n",
    "\n",
    "page = 1\n",
    "while True:\n",
    "    response = requests.get(base_url.format(page), headers=headers)\n",
    "    if response.status_code != 200:\n",
    "        break\n",
    "    soup = BeautifulSoup(response.text, \"html.parser\")\n",
    "    items = soup.find_all(\"li\", class_=\"flavors-item\")\n",
    "\n",
    "    if not items:\n",
    "        break\n",
    "\n",
    "    for item in items:\n",
    "        flavor_name = item.find(\"h3\").get_text()\n",
    "        flavor_url = item.find(\"a\")[\"href\"]\n",
    "        flavor_image = item.find(\"img\")[\"src\"]\n",
    "        flavors.append(\n",
    "            {\n",
    "                \"brand\": None,\n",
    "                \"name\": flavor_name,\n",
    "                \"description\": None,\n",
    "                \"url\": flavor_url,\n",
    "                \"image\": flavor_image,\n",
    "            }\n",
    "        )\n",
    "    page += 1"
   ]
  },
  {
   "cell_type": "code",
   "execution_count": 10,
   "id": "25a84e2b-b1df-439d-8e3c-2ff40a1b1caa",
   "metadata": {
    "execution": {
     "iopub.execute_input": "2024-07-29T06:01:18.211855Z",
     "iopub.status.busy": "2024-07-29T06:01:18.211449Z",
     "iopub.status.idle": "2024-07-29T06:01:18.224766Z",
     "shell.execute_reply": "2024-07-29T06:01:18.224295Z"
    }
   },
   "outputs": [],
   "source": [
    "# Function to get description from each flavor page\n",
    "def get_flavor_description(url):\n",
    "    response = requests.get(url, headers=headers)\n",
    "    if response.status_code == 200:\n",
    "        soup = BeautifulSoup(response.text, \"html.parser\")\n",
    "        info_div = soup.find(\"div\", class_=\"info\")\n",
    "        if info_div:\n",
    "            description = info_div.find(\"p\").get_text()\n",
    "            return description\n",
    "    return None"
   ]
  },
  {
   "cell_type": "code",
   "execution_count": 11,
   "id": "e388a117-11c1-44fb-99ce-67ad4ed7c756",
   "metadata": {
    "execution": {
     "iopub.execute_input": "2024-07-29T06:01:18.227296Z",
     "iopub.status.busy": "2024-07-29T06:01:18.227097Z",
     "iopub.status.idle": "2024-07-29T06:01:29.857336Z",
     "shell.execute_reply": "2024-07-29T06:01:29.856677Z"
    }
   },
   "outputs": [
    {
     "data": {
      "application/vnd.jupyter.widget-view+json": {
       "model_id": "95ea833194ae4ba484499c7cbd388d60",
       "version_major": 2,
       "version_minor": 0
      },
      "text/plain": [
       "  0%|          | 0/25 [00:00<?, ?it/s]"
      ]
     },
     "metadata": {},
     "output_type": "display_data"
    }
   ],
   "source": [
    "# Update the flavors with their descriptions\n",
    "for flavor in tqdm(flavors):\n",
    "    flavor[\"description\"] = get_flavor_description(flavor[\"url\"])\n",
    "    # time.sleep(1)  # Sleep if needed"
   ]
  },
  {
   "cell_type": "code",
   "execution_count": 12,
   "id": "2f766d11-0100-438d-b6fb-9556f27207ce",
   "metadata": {
    "execution": {
     "iopub.execute_input": "2024-07-29T06:01:29.861749Z",
     "iopub.status.busy": "2024-07-29T06:01:29.861303Z",
     "iopub.status.idle": "2024-07-29T06:01:29.869913Z",
     "shell.execute_reply": "2024-07-29T06:01:29.869468Z"
    }
   },
   "outputs": [],
   "source": [
    "# Convert to DataFrame\n",
    "df = pd.DataFrame(flavors)"
   ]
  },
  {
   "cell_type": "code",
   "execution_count": 13,
   "id": "1fb27b8a-f554-45a5-8574-6ba96b9b6131",
   "metadata": {
    "execution": {
     "iopub.execute_input": "2024-07-29T06:01:29.872385Z",
     "iopub.status.busy": "2024-07-29T06:01:29.872194Z",
     "iopub.status.idle": "2024-07-29T06:01:29.874724Z",
     "shell.execute_reply": "2024-07-29T06:01:29.874365Z"
    },
    "tags": []
   },
   "outputs": [],
   "source": [
    "# Output"
   ]
  },
  {
   "cell_type": "code",
   "execution_count": 14,
   "id": "e7bac419-2b6d-45a5-b8c8-3ca80702cd8a",
   "metadata": {
    "execution": {
     "iopub.execute_input": "2024-07-29T06:01:29.876821Z",
     "iopub.status.busy": "2024-07-29T06:01:29.876650Z",
     "iopub.status.idle": "2024-07-29T06:01:29.882168Z",
     "shell.execute_reply": "2024-07-29T06:01:29.881820Z"
    },
    "tags": []
   },
   "outputs": [],
   "source": [
    "df[\"date_fetch\"] = today\n",
    "df[\"parent\"] = parent\n",
    "df[\"brand\"] = brand_formal"
   ]
  },
  {
   "cell_type": "code",
   "execution_count": 15,
   "id": "8ac86434-3d15-4ff2-9125-6037035b145b",
   "metadata": {
    "execution": {
     "iopub.execute_input": "2024-07-29T06:01:29.884139Z",
     "iopub.status.busy": "2024-07-29T06:01:29.883985Z",
     "iopub.status.idle": "2024-07-29T06:01:29.892081Z",
     "shell.execute_reply": "2024-07-29T06:01:29.891755Z"
    },
    "tags": []
   },
   "outputs": [],
   "source": [
    "# Output local files\n",
    "df.to_csv(CSV_OUT, index=False)\n",
    "df.to_json(JSON_OUT, indent=4, orient=\"records\")"
   ]
  },
  {
   "cell_type": "code",
   "execution_count": 16,
   "id": "cc66c27c-dde6-4880-8b07-ec666ddd023f",
   "metadata": {
    "execution": {
     "iopub.execute_input": "2024-07-29T06:01:29.893902Z",
     "iopub.status.busy": "2024-07-29T06:01:29.893783Z",
     "iopub.status.idle": "2024-07-29T06:01:30.645801Z",
     "shell.execute_reply": "2024-07-29T06:01:30.644959Z"
    },
    "tags": []
   },
   "outputs": [
    {
     "name": "stdout",
     "output_type": "stream",
     "text": [
      "CSV file uploaded to s3://stilesdata.com/products/la_croix/products.csv\n",
      "JSON file uploaded to s3://stilesdata.com/products/la_croix/products.json\n"
     ]
    }
   ],
   "source": [
    "# Paths for S3 storage\n",
    "S3_BUCKET = \"stilesdata.com\"\n",
    "S3_CSV_KEY = f\"products/{brand}/products.csv\"\n",
    "S3_JSON_KEY = f\"products/{brand}/products.json\"\n",
    "\n",
    "# Initialize boto3 client with environment variables\n",
    "s3_client = boto3.client(\n",
    "    \"s3\",\n",
    "    aws_access_key_id=os.getenv(\"MY_AWS_ACCESS_KEY_ID\"),\n",
    "    aws_secret_access_key=os.getenv(\"MY_AWS_SECRET_ACCESS_KEY\"),\n",
    "    aws_session_token=os.getenv(\"MY_AWS_SESSION_TOKEN\"),\n",
    ")\n",
    "\n",
    "# Upload the CSV file to S3\n",
    "s3_client.upload_file(str(CSV_OUT), S3_BUCKET, S3_CSV_KEY)\n",
    "print(f\"CSV file uploaded to s3://{S3_BUCKET}/{S3_CSV_KEY}\")\n",
    "\n",
    "# Upload the JSON file\n",
    "s3_client.upload_file(str(JSON_OUT), S3_BUCKET, S3_JSON_KEY)\n",
    "print(f\"JSON file uploaded to s3://{S3_BUCKET}/{S3_JSON_KEY}\")"
   ]
  }
 ],
 "metadata": {
  "kernelspec": {
   "display_name": "Python 3 (ipykernel)",
   "language": "python",
   "name": "python3"
  },
  "language_info": {
   "codemirror_mode": {
    "name": "ipython",
    "version": 3
   },
   "file_extension": ".py",
   "mimetype": "text/x-python",
   "name": "python",
   "nbconvert_exporter": "python",
   "pygments_lexer": "ipython3",
   "version": "3.9.15"
  },
  "widgets": {
   "application/vnd.jupyter.widget-state+json": {
    "state": {
     "1284250eeee0490db2e3ee15e28e391d": {
      "model_module": "@jupyter-widgets/base",
      "model_module_version": "2.0.0",
      "model_name": "LayoutModel",
      "state": {
       "_model_module": "@jupyter-widgets/base",
       "_model_module_version": "2.0.0",
       "_model_name": "LayoutModel",
       "_view_count": null,
       "_view_module": "@jupyter-widgets/base",
       "_view_module_version": "2.0.0",
       "_view_name": "LayoutView",
       "align_content": null,
       "align_items": null,
       "align_self": null,
       "border_bottom": null,
       "border_left": null,
       "border_right": null,
       "border_top": null,
       "bottom": null,
       "display": null,
       "flex": null,
       "flex_flow": null,
       "grid_area": null,
       "grid_auto_columns": null,
       "grid_auto_flow": null,
       "grid_auto_rows": null,
       "grid_column": null,
       "grid_gap": null,
       "grid_row": null,
       "grid_template_areas": null,
       "grid_template_columns": null,
       "grid_template_rows": null,
       "height": null,
       "justify_content": null,
       "justify_items": null,
       "left": null,
       "margin": null,
       "max_height": null,
       "max_width": null,
       "min_height": null,
       "min_width": null,
       "object_fit": null,
       "object_position": null,
       "order": null,
       "overflow": null,
       "padding": null,
       "right": null,
       "top": null,
       "visibility": null,
       "width": null
      }
     },
     "166f20b8282548b38f7256510c0c1a1f": {
      "model_module": "@jupyter-widgets/controls",
      "model_module_version": "2.0.0",
      "model_name": "HTMLStyleModel",
      "state": {
       "_model_module": "@jupyter-widgets/controls",
       "_model_module_version": "2.0.0",
       "_model_name": "HTMLStyleModel",
       "_view_count": null,
       "_view_module": "@jupyter-widgets/base",
       "_view_module_version": "2.0.0",
       "_view_name": "StyleView",
       "background": null,
       "description_width": "",
       "font_size": null,
       "text_color": null
      }
     },
     "5cf93146158b43db82d79124bee27bbc": {
      "model_module": "@jupyter-widgets/controls",
      "model_module_version": "2.0.0",
      "model_name": "FloatProgressModel",
      "state": {
       "_dom_classes": [],
       "_model_module": "@jupyter-widgets/controls",
       "_model_module_version": "2.0.0",
       "_model_name": "FloatProgressModel",
       "_view_count": null,
       "_view_module": "@jupyter-widgets/controls",
       "_view_module_version": "2.0.0",
       "_view_name": "ProgressView",
       "bar_style": "success",
       "description": "",
       "description_allow_html": false,
       "layout": "IPY_MODEL_684fd18baa8c4087a9a97d5b574d7739",
       "max": 25.0,
       "min": 0.0,
       "orientation": "horizontal",
       "style": "IPY_MODEL_c1627c11f3104424872ded85c106f001",
       "tabbable": null,
       "tooltip": null,
       "value": 25.0
      }
     },
     "684fd18baa8c4087a9a97d5b574d7739": {
      "model_module": "@jupyter-widgets/base",
      "model_module_version": "2.0.0",
      "model_name": "LayoutModel",
      "state": {
       "_model_module": "@jupyter-widgets/base",
       "_model_module_version": "2.0.0",
       "_model_name": "LayoutModel",
       "_view_count": null,
       "_view_module": "@jupyter-widgets/base",
       "_view_module_version": "2.0.0",
       "_view_name": "LayoutView",
       "align_content": null,
       "align_items": null,
       "align_self": null,
       "border_bottom": null,
       "border_left": null,
       "border_right": null,
       "border_top": null,
       "bottom": null,
       "display": null,
       "flex": null,
       "flex_flow": null,
       "grid_area": null,
       "grid_auto_columns": null,
       "grid_auto_flow": null,
       "grid_auto_rows": null,
       "grid_column": null,
       "grid_gap": null,
       "grid_row": null,
       "grid_template_areas": null,
       "grid_template_columns": null,
       "grid_template_rows": null,
       "height": null,
       "justify_content": null,
       "justify_items": null,
       "left": null,
       "margin": null,
       "max_height": null,
       "max_width": null,
       "min_height": null,
       "min_width": null,
       "object_fit": null,
       "object_position": null,
       "order": null,
       "overflow": null,
       "padding": null,
       "right": null,
       "top": null,
       "visibility": null,
       "width": null
      }
     },
     "86f79624ad3a4543811ebbba49111ebe": {
      "model_module": "@jupyter-widgets/base",
      "model_module_version": "2.0.0",
      "model_name": "LayoutModel",
      "state": {
       "_model_module": "@jupyter-widgets/base",
       "_model_module_version": "2.0.0",
       "_model_name": "LayoutModel",
       "_view_count": null,
       "_view_module": "@jupyter-widgets/base",
       "_view_module_version": "2.0.0",
       "_view_name": "LayoutView",
       "align_content": null,
       "align_items": null,
       "align_self": null,
       "border_bottom": null,
       "border_left": null,
       "border_right": null,
       "border_top": null,
       "bottom": null,
       "display": null,
       "flex": null,
       "flex_flow": null,
       "grid_area": null,
       "grid_auto_columns": null,
       "grid_auto_flow": null,
       "grid_auto_rows": null,
       "grid_column": null,
       "grid_gap": null,
       "grid_row": null,
       "grid_template_areas": null,
       "grid_template_columns": null,
       "grid_template_rows": null,
       "height": null,
       "justify_content": null,
       "justify_items": null,
       "left": null,
       "margin": null,
       "max_height": null,
       "max_width": null,
       "min_height": null,
       "min_width": null,
       "object_fit": null,
       "object_position": null,
       "order": null,
       "overflow": null,
       "padding": null,
       "right": null,
       "top": null,
       "visibility": null,
       "width": null
      }
     },
     "95ea833194ae4ba484499c7cbd388d60": {
      "model_module": "@jupyter-widgets/controls",
      "model_module_version": "2.0.0",
      "model_name": "HBoxModel",
      "state": {
       "_dom_classes": [],
       "_model_module": "@jupyter-widgets/controls",
       "_model_module_version": "2.0.0",
       "_model_name": "HBoxModel",
       "_view_count": null,
       "_view_module": "@jupyter-widgets/controls",
       "_view_module_version": "2.0.0",
       "_view_name": "HBoxView",
       "box_style": "",
       "children": [
        "IPY_MODEL_adc56e0142c548b78a392293e6b2f45d",
        "IPY_MODEL_5cf93146158b43db82d79124bee27bbc",
        "IPY_MODEL_eb14e5bff42e4350baa6fe7f92e53123"
       ],
       "layout": "IPY_MODEL_86f79624ad3a4543811ebbba49111ebe",
       "tabbable": null,
       "tooltip": null
      }
     },
     "adc56e0142c548b78a392293e6b2f45d": {
      "model_module": "@jupyter-widgets/controls",
      "model_module_version": "2.0.0",
      "model_name": "HTMLModel",
      "state": {
       "_dom_classes": [],
       "_model_module": "@jupyter-widgets/controls",
       "_model_module_version": "2.0.0",
       "_model_name": "HTMLModel",
       "_view_count": null,
       "_view_module": "@jupyter-widgets/controls",
       "_view_module_version": "2.0.0",
       "_view_name": "HTMLView",
       "description": "",
       "description_allow_html": false,
       "layout": "IPY_MODEL_1284250eeee0490db2e3ee15e28e391d",
       "placeholder": "​",
       "style": "IPY_MODEL_ead69390c10544929d559ed3501e370d",
       "tabbable": null,
       "tooltip": null,
       "value": "100%"
      }
     },
     "c1627c11f3104424872ded85c106f001": {
      "model_module": "@jupyter-widgets/controls",
      "model_module_version": "2.0.0",
      "model_name": "ProgressStyleModel",
      "state": {
       "_model_module": "@jupyter-widgets/controls",
       "_model_module_version": "2.0.0",
       "_model_name": "ProgressStyleModel",
       "_view_count": null,
       "_view_module": "@jupyter-widgets/base",
       "_view_module_version": "2.0.0",
       "_view_name": "StyleView",
       "bar_color": null,
       "description_width": ""
      }
     },
     "c95ba0d5f6644141b23b48e498329f26": {
      "model_module": "@jupyter-widgets/base",
      "model_module_version": "2.0.0",
      "model_name": "LayoutModel",
      "state": {
       "_model_module": "@jupyter-widgets/base",
       "_model_module_version": "2.0.0",
       "_model_name": "LayoutModel",
       "_view_count": null,
       "_view_module": "@jupyter-widgets/base",
       "_view_module_version": "2.0.0",
       "_view_name": "LayoutView",
       "align_content": null,
       "align_items": null,
       "align_self": null,
       "border_bottom": null,
       "border_left": null,
       "border_right": null,
       "border_top": null,
       "bottom": null,
       "display": null,
       "flex": null,
       "flex_flow": null,
       "grid_area": null,
       "grid_auto_columns": null,
       "grid_auto_flow": null,
       "grid_auto_rows": null,
       "grid_column": null,
       "grid_gap": null,
       "grid_row": null,
       "grid_template_areas": null,
       "grid_template_columns": null,
       "grid_template_rows": null,
       "height": null,
       "justify_content": null,
       "justify_items": null,
       "left": null,
       "margin": null,
       "max_height": null,
       "max_width": null,
       "min_height": null,
       "min_width": null,
       "object_fit": null,
       "object_position": null,
       "order": null,
       "overflow": null,
       "padding": null,
       "right": null,
       "top": null,
       "visibility": null,
       "width": null
      }
     },
     "ead69390c10544929d559ed3501e370d": {
      "model_module": "@jupyter-widgets/controls",
      "model_module_version": "2.0.0",
      "model_name": "HTMLStyleModel",
      "state": {
       "_model_module": "@jupyter-widgets/controls",
       "_model_module_version": "2.0.0",
       "_model_name": "HTMLStyleModel",
       "_view_count": null,
       "_view_module": "@jupyter-widgets/base",
       "_view_module_version": "2.0.0",
       "_view_name": "StyleView",
       "background": null,
       "description_width": "",
       "font_size": null,
       "text_color": null
      }
     },
     "eb14e5bff42e4350baa6fe7f92e53123": {
      "model_module": "@jupyter-widgets/controls",
      "model_module_version": "2.0.0",
      "model_name": "HTMLModel",
      "state": {
       "_dom_classes": [],
       "_model_module": "@jupyter-widgets/controls",
       "_model_module_version": "2.0.0",
       "_model_name": "HTMLModel",
       "_view_count": null,
       "_view_module": "@jupyter-widgets/controls",
       "_view_module_version": "2.0.0",
       "_view_name": "HTMLView",
       "description": "",
       "description_allow_html": false,
       "layout": "IPY_MODEL_c95ba0d5f6644141b23b48e498329f26",
       "placeholder": "​",
       "style": "IPY_MODEL_166f20b8282548b38f7256510c0c1a1f",
       "tabbable": null,
       "tooltip": null,
       "value": " 25/25 [00:11&lt;00:00,  2.17it/s]"
      }
     }
    },
    "version_major": 2,
    "version_minor": 0
   }
  }
 },
 "nbformat": 4,
 "nbformat_minor": 5
}
