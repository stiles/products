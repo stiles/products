{
 "cells": [
  {
   "cell_type": "markdown",
   "id": "771bcc23-2271-4ac2-be58-b9d7442948dc",
   "metadata": {},
   "source": [
    "# Fetch products from XYXYX"
   ]
  },
  {
   "cell_type": "markdown",
   "id": "5e9f7dd0-5ee7-4880-a3ec-496b726d5d81",
   "metadata": {},
   "source": [
    "> This notebook collects and processes listings on the company's product page."
   ]
  },
  {
   "cell_type": "code",
   "execution_count": 1,
   "id": "59201393-d063-4fe3-8cd9-99e5033701b1",
   "metadata": {
    "tags": []
   },
   "outputs": [],
   "source": [
    "# Python tools and Jupyter config"
   ]
  },
  {
   "cell_type": "code",
   "execution_count": 13,
   "id": "8687d089-2f69-40b9-a687-3fb37554de8c",
   "metadata": {
    "tags": []
   },
   "outputs": [],
   "source": [
    "import os\n",
    "import json\n",
    "import boto3\n",
    "import requests\n",
    "import pandas as pd\n",
    "import jupyter_black\n",
    "from time import sleep\n",
    "from pathlib import Path\n",
    "from random import randint\n",
    "from bs4 import BeautifulSoup\n",
    "from tqdmimport tqdm"
   ]
  },
  {
   "cell_type": "code",
   "execution_count": 8,
   "id": "2f81abae-9a59-432d-8212-031f3e752734",
   "metadata": {
    "tags": []
   },
   "outputs": [],
   "source": [
    "jupyter_black.load()\n",
    "pd.options.display.max_columns = 100\n",
    "pd.options.display.max_rows = 1000\n",
    "pd.options.display.max_colwidth = None\n",
    "today = pd.Timestamp.today().strftime(\"%Y-%m-%d\")"
   ]
  },
  {
   "cell_type": "code",
   "execution_count": 8,
   "id": "b81bd4a0-b2ef-4ab3-8fcd-98e1f01292b1",
   "metadata": {
    "tags": []
   },
   "outputs": [],
   "source": [
    "# Headers for requests"
   ]
  },
  {
   "cell_type": "code",
   "execution_count": 11,
   "id": "13d790de-b1c9-4107-9cfc-caf4efc28106",
   "metadata": {
    "tags": []
   },
   "outputs": [],
   "source": [
    "headers = {\n",
    "    \"user-agent\": \"Mozilla/5.0 (Macintosh; Intel Mac OS X 10_15_7) AppleWebKit/537.36 (KHTML, like Gecko) Chrome/126.0.0.0 Safari/537.36\",\n",
    "}"
   ]
  },
  {
   "cell_type": "code",
   "execution_count": 12,
   "id": "14db1a96-13be-4490-b25e-8a8265300964",
   "metadata": {
    "tags": []
   },
   "outputs": [],
   "source": [
    "# Variables"
   ]
  },
  {
   "cell_type": "code",
   "execution_count": 10,
   "id": "b34e32df-870d-4136-8a99-6bb4d468a691",
   "metadata": {
    "tags": []
   },
   "outputs": [],
   "source": [
    "brand = \"brand_name\"\n",
    "parent = \"parent_name\"\n",
    "brand_formal = 'brand_formal'"
   ]
  },
  {
   "cell_type": "code",
   "execution_count": null,
   "id": "44d2113e-8894-4ede-8798-08584000f4f8",
   "metadata": {},
   "outputs": [],
   "source": [
    "# BASE = Path(__file__).resolve().parent\n",
    "BASE = Path.cwd()\n",
    "CSV_OUT = BASE / f\"../../../data/brands/{brand}.csv\"\n",
    "JSON_OUT = BASE / f\"../../../data/brands/{brand}.json\""
   ]
  },
  {
   "cell_type": "code",
   "execution_count": null,
   "id": "5586a48f-2054-4eec-b15f-b224a7f40c2f",
   "metadata": {},
   "outputs": [],
   "source": []
  },
  {
   "cell_type": "code",
   "execution_count": null,
   "id": "bb3e0b0e-3ee5-4228-a1c3-050bcd17bdae",
   "metadata": {},
   "outputs": [],
   "source": []
  },
  {
   "cell_type": "code",
   "execution_count": null,
   "id": "824909c1-d4cc-4c01-b8ec-b6647ac90be1",
   "metadata": {},
   "outputs": [],
   "source": []
  },
  {
   "cell_type": "code",
   "execution_count": null,
   "id": "3e5d2ec4-0298-4c9e-9908-f3a03a925ab8",
   "metadata": {},
   "outputs": [],
   "source": []
  },
  {
   "cell_type": "code",
   "execution_count": null,
   "id": "0110dece-8389-4d73-ace5-03c7102d7c4a",
   "metadata": {},
   "outputs": [],
   "source": []
  },
  {
   "cell_type": "code",
   "execution_count": null,
   "id": "3f4e98e5-dab0-46fe-b049-931e095e21ec",
   "metadata": {},
   "outputs": [],
   "source": []
  },
  {
   "cell_type": "code",
   "execution_count": null,
   "id": "97c58738-f541-4166-93ba-ee47f2c7f705",
   "metadata": {},
   "outputs": [],
   "source": []
  },
  {
   "cell_type": "code",
   "execution_count": null,
   "id": "901c037b-40c5-4497-8222-d56b86098fde",
   "metadata": {},
   "outputs": [],
   "source": []
  },
  {
   "cell_type": "code",
   "execution_count": null,
   "id": "ec3e0eac-f725-4a24-a307-e5522268ccaf",
   "metadata": {},
   "outputs": [],
   "source": [
    "df[\"date_fetch\"] = today\n",
    "df[\"parent\"] = parent \n",
    "df['brand'] = brand_formal"
   ]
  },
  {
   "cell_type": "code",
   "execution_count": 14,
   "id": "1bfe2cb1-c10c-435c-8525-be056519a064",
   "metadata": {
    "tags": []
   },
   "outputs": [],
   "source": [
    "# Output"
   ]
  },
  {
   "cell_type": "code",
   "execution_count": null,
   "id": "6d9d20d8-415f-420a-b006-965f007886a7",
   "metadata": {},
   "outputs": [],
   "source": [
    "# Paths for S3 storage\n",
    "S3_BUCKET = 'stilesdata.com'\n",
    "S3_CSV_KEY = f'products/{brand}/products.csv'\n",
    "S3_JSON_KEY = f'products/{brand}/products.json'\n",
    "\n",
    "# Initialize boto3 client with environment variables\n",
    "s3_client = boto3.client(\n",
    "    's3',\n",
    "    aws_access_key_id=os.getenv('MY_AWS_ACCESS_KEY_ID'),\n",
    "    aws_secret_access_key=os.getenv('MY_AWS_SECRET_ACCESS_KEY'),\n",
    "    aws_session_token=os.getenv('MY_AWS_SESSION_TOKEN')\n",
    ")\n",
    "\n",
    "# Upload the CSV file to S3\n",
    "s3_client.upload_file(str(CSV_OUT), S3_BUCKET, S3_CSV_KEY)\n",
    "print(f\"CSV file uploaded to s3://{S3_BUCKET}/{S3_CSV_KEY}\")\n",
    "\n",
    "# Upload the JSON file\n",
    "s3_client.upload_file(str(JSON_OUT), S3_BUCKET, S3_JSON_KEY)\n",
    "print(f\"JSON file uploaded to s3://{S3_BUCKET}/{S3_JSON_KEY}\")"
   ]
  }
 ],
 "metadata": {
  "kernelspec": {
   "display_name": "Python 3 (ipykernel)",
   "language": "python",
   "name": "python3"
  },
  "language_info": {
   "codemirror_mode": {
    "name": "ipython",
    "version": 3
   },
   "file_extension": ".py",
   "mimetype": "text/x-python",
   "name": "python",
   "nbconvert_exporter": "python",
   "pygments_lexer": "ipython3",
   "version": "3.9.15"
  }
 },
 "nbformat": 4,
 "nbformat_minor": 5
}
